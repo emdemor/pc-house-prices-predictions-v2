{
 "cells": [
  {
   "cell_type": "code",
   "execution_count": 1,
   "id": "46184c07",
   "metadata": {},
   "outputs": [],
   "source": [
    "import os\n",
    "os.chdir('../')\n",
    "\n",
    "import sys\n",
    "sys.path.append('src/')"
   ]
  },
  {
   "cell_type": "code",
   "execution_count": 2,
   "id": "e8f94392",
   "metadata": {},
   "outputs": [],
   "source": [
    "import warnings\n",
    "import logging\n",
    "\n",
    "import pandas as pd\n",
    "import numpy as np\n",
    "import matplotlib.pyplot as plt\n",
    "from datetime import datetime, timedelta\n",
    "from tqdm import tqdm\n",
    "from dotenv import load_dotenv\n",
    "\n",
    "from base import logger\n",
    "from base.commons import load_yaml, load_json, dump_json, dump_yaml, dump_pickle, load_pickle\n",
    "from model.data import extract_scrapped_relational_data\n",
    "from report import generate_eda_report\n",
    "from report.preprocessing import supervised_test_rf\n",
    "from sklearn.model_selection import train_test_split\n",
    "from sklearn.metrics import mean_absolute_error\n",
    "\n",
    "\n",
    "from auto_preprocess import AutoPreProcessor, Clipper, CategoricalDropper\n",
    "from auto_preprocess.config import *\n",
    "\n",
    "from model.data.external import add_external_data\n",
    "from model.features import feature_engineering\n",
    "from model.artifacts import update_model_artifacts\n",
    "from model.hyperparameter_tunning import HyperparameterTunner\n",
    "\n",
    "%config IPCompleter.use_jedi=False\n",
    "\n",
    "pd.options.display.max_columns = None\n",
    "\n",
    "warnings.filterwarnings('ignore')\n",
    "\n",
    "assert load_dotenv()\n",
    "\n",
    "assert logger.set()"
   ]
  },
  {
   "cell_type": "markdown",
   "id": "0a8003a2",
   "metadata": {},
   "source": [
    "### Funções"
   ]
  },
  {
   "cell_type": "markdown",
   "id": "412b5a04",
   "metadata": {},
   "source": [
    "### Parâmetros"
   ]
  },
  {
   "cell_type": "code",
   "execution_count": 3,
   "id": "47db93a1",
   "metadata": {},
   "outputs": [],
   "source": [
    "# Importando variáveis globais\n",
    "filepaths = load_yaml(os.getenv(\"FILEPATHS\"))\n",
    "variables = load_yaml(os.getenv(\"VARIABLES\"))\n",
    "\n",
    "# Configurações\n",
    "features_config = get_config(os.getenv(\"FEATURES_CONFIG\"))\n",
    "\n",
    "# Extração de dados: consulta o banco e persite localmente\n",
    "if variables[\"extract_data\"]:\n",
    "    extract_scrapped_relational_data()\n",
    "\n",
    "# Importando dataframe base\n",
    "df = pd.read_parquet(filepaths[\"raw_data_relational_scrapped\"],)\n",
    "\n",
    "#Filtrando apenas as casas\n",
    "df = df.loc[df['type'].isin(variables['estate_types'])]\n",
    "\n",
    "# Adicionando dados externos\n",
    "df = df.pipe(add_external_data)\n",
    "\n",
    "# Separando target de features\n",
    "X, y = df.drop(columns = variables[\"target_column\"]), df[variables[\"target_column\"]]\n",
    "\n",
    "# Separando entre teste e treino\n",
    "X_train, X_test, y_train, y_test = train_test_split(\n",
    "    X, y, test_size = variables[\"test_size\"], random_state=variables[\"random_state\"]\n",
    ")\n",
    "\n",
    "#-- Building features ------------------\n",
    "X_train_fe = feature_engineering(X_train)\n",
    "\n",
    "# -- Training preprocessor ------------------\n",
    "preprocessor = AutoPreProcessor(features_config)\n",
    "preprocessor.fit(X_train_fe, y_train)\n",
    "\n",
    "# -- Transforming train dataset ------------------\n",
    "X_train_transf = preprocessor.transform(X_train_fe)\n",
    "\n",
    "# -- Transforming test dataset ------------------\n",
    "X_test_transf = X_test.pipe(feature_engineering).pipe(preprocessor.transform)\n",
    "\n",
    "# -- EDA Report ------------------\n"
   ]
  },
  {
   "cell_type": "markdown",
   "id": "b29cbc90",
   "metadata": {},
   "source": [
    "## Testes de Regressores"
   ]
  },
  {
   "cell_type": "code",
   "execution_count": 6,
   "id": "2fca2236",
   "metadata": {},
   "outputs": [],
   "source": [
    "from sklearn.model_selection import cross_validate"
   ]
  },
  {
   "cell_type": "code",
   "execution_count": 82,
   "id": "cf34b2bd",
   "metadata": {},
   "outputs": [],
   "source": [
    "class Mean:\n",
    "    def __init__(self, iterable, precision=2, verbose = 0):\n",
    "        self.iterable = iterable\n",
    "        self.precision = precision\n",
    "        self.verbose = verbose\n",
    "        self.mean, self.std = self.evaluate()\n",
    "        \n",
    "        if self.verbose > 0:\n",
    "            print(self)\n",
    "        \n",
    "    def __str__(self):\n",
    "        return \"{} ± {}\".format(self.mean, self.std)\n",
    "        \n",
    "    def __repr__(self):\n",
    "        return \"{} ± {}\".format(self.mean, self.std)\n",
    "        \n",
    "    def evaluate(self):\n",
    "        self.mean = np.mean(self.iterable)\n",
    "        self.std = np.std(self.iterable)\n",
    "        return np.round(self.mean, self.precision), np.round(self.std, self.precision)\n",
    "    \n",
    "    def __abs__(self):\n",
    "        return \"{} ± {}\".format(np.abs(self.mean), np.abs(self.std))"
   ]
  },
  {
   "cell_type": "code",
   "execution_count": 83,
   "id": "ccd47392",
   "metadata": {},
   "outputs": [
    {
     "name": "stdout",
     "output_type": "stream",
     "text": [
      "2.0 ± 0.82\n"
     ]
    }
   ],
   "source": [
    "var = Mean([1,2,3], verbose=1)"
   ]
  },
  {
   "cell_type": "code",
   "execution_count": 84,
   "id": "72512004",
   "metadata": {},
   "outputs": [
    {
     "data": {
      "text/plain": [
       "'2.0 ± 0.82'"
      ]
     },
     "execution_count": 84,
     "metadata": {},
     "output_type": "execute_result"
    }
   ],
   "source": [
    "abs(var)"
   ]
  },
  {
   "cell_type": "markdown",
   "id": "35cc9852",
   "metadata": {},
   "source": [
    "### Dummy Regressor"
   ]
  },
  {
   "cell_type": "code",
   "execution_count": 85,
   "id": "a98c34b1",
   "metadata": {},
   "outputs": [],
   "source": [
    "def eval_average_metric(estimator, X, y, scoring, cv=10, precision=5):\n",
    "    \n",
    "    cv_scores = cross_validate(estimator, X, y, scoring=scoring, cv=cv)['test_score']\n",
    "    \n",
    "    return Mean(cv_scores, precision=precision)"
   ]
  },
  {
   "cell_type": "code",
   "execution_count": 197,
   "id": "bdbea1ac",
   "metadata": {},
   "outputs": [
    {
     "name": "stdout",
     "output_type": "stream",
     "text": [
      "##################################################\n",
      "1)  DummyRegressor\n",
      "R2 = -0.0 ± 0.0\n",
      "MAE = 394687.0 ± 19438.0\n"
     ]
    },
    {
     "data": {
      "image/png": "[encoded data removed]",
      "text/plain": [
       "<Figure size 432x288 with 1 Axes>"
      ]
     },
     "metadata": {
      "needs_background": "light"
     },
     "output_type": "display_data"
    },
    {
     "name": "stdout",
     "output_type": "stream",
     "text": [
      "\n",
      "\n",
      "##################################################\n",
      "2)  LinearRegression\n",
      "R2 = 0.76 ± 0.03\n",
      "MAE = 168949.0 ± 13127.0\n"
     ]
    },
    {
     "data": {
      "image/png": "[encoded data removed]",
      "text/plain": [
       "<Figure size 432x288 with 1 Axes>"
      ]
     },
     "metadata": {
      "needs_background": "light"
     },
     "output_type": "display_data"
    },
    {
     "name": "stdout",
     "output_type": "stream",
     "text": [
      "\n",
      "\n",
      "##################################################\n",
      "3)  DecisionTreeRegressor\n",
      "R2 = 0.78 ± 0.06\n",
      "MAE = 116934.0 ± 14053.0\n"
     ]
    },
    {
     "data": {
      "image/png": "[encoded data removed]",
      "text/plain": [
       "<Figure size 432x288 with 1 Axes>"
      ]
     },
     "metadata": {
      "needs_background": "light"
     },
     "output_type": "display_data"
    },
    {
     "name": "stdout",
     "output_type": "stream",
     "text": [
      "\n",
      "\n",
      "##################################################\n",
      "4)  RandomForestRegressor\n",
      "R2 = 0.86 ± 0.02\n",
      "MAE = 104084.0 ± 9324.0\n"
     ]
    },
    {
     "data": {
      "image/png": "[encoded data removed]",
      "text/plain": [
       "<Figure size 432x288 with 1 Axes>"
      ]
     },
     "metadata": {
      "needs_background": "light"
     },
     "output_type": "display_data"
    },
    {
     "name": "stdout",
     "output_type": "stream",
     "text": [
      "\n",
      "\n",
      "##################################################\n",
      "5)  GradientBoostingRegressor\n",
      "R2 = 0.83 ± 0.02\n",
      "MAE = 137271.0 ± 10881.0\n"
     ]
    },
    {
     "data": {
      "image/png": "[encoded data removed]",
      "text/plain": [
       "<Figure size 432x288 with 1 Axes>"
      ]
     },
     "metadata": {
      "needs_background": "light"
     },
     "output_type": "display_data"
    },
    {
     "name": "stdout",
     "output_type": "stream",
     "text": [
      "\n",
      "\n",
      "##################################################\n",
      "6)  LGBMRegressor\n",
      "R2 = 0.74 ± 0.04\n",
      "MAE = 157540.0 ± 14405.0\n"
     ]
    },
    {
     "data": {
      "image/png": "[encoded data removed]",
      "text/plain": [
       "<Figure size 432x288 with 1 Axes>"
      ]
     },
     "metadata": {
      "needs_background": "light"
     },
     "output_type": "display_data"
    },
    {
     "name": "stdout",
     "output_type": "stream",
     "text": [
      "\n",
      "\n",
      "##################################################\n",
      "7)  XGBRegressor\n",
      "R2 = 0.85 ± 0.04\n",
      "MAE = 113224.0 ± 11991.0\n"
     ]
    },
    {
     "data": {
      "image/png": "[encoded data removed]",
      "text/plain": [
       "<Figure size 432x288 with 1 Axes>"
      ]
     },
     "metadata": {
      "needs_background": "light"
     },
     "output_type": "display_data"
    },
    {
     "name": "stdout",
     "output_type": "stream",
     "text": [
      "\n",
      "\n"
     ]
    }
   ],
   "source": [
    "from sklearn.dummy import DummyRegressor\n",
    "from sklearn.linear_model import LinearRegression\n",
    "from sklearn.tree import DecisionTreeRegressor\n",
    "from sklearn.ensemble import RandomForestRegressor\n",
    "from sklearn.ensemble import GradientBoostingRegressor\n",
    "from lightgbm import LGBMRegressor\n",
    "from xgboost import XGBRegressor\n",
    "import matplotlib.pyplot as plt\n",
    "\n",
    "regressors_list = [\n",
    "    DummyRegressor(),\n",
    "    LinearRegression(),\n",
    "    DecisionTreeRegressor(),\n",
    "    RandomForestRegressor(),\n",
    "    GradientBoostingRegressor(),\n",
    "    LGBMRegressor(reg_lambda = 1*10**3),\n",
    "    XGBRegressor(),\n",
    "]\n",
    "\n",
    "for i, estimator in enumerate(regressors_list):\n",
    "\n",
    "    r2 = eval_average_metric(estimator, X_train_transf, y_train, scoring='r2', cv=10, precision=2)\n",
    "\n",
    "    mae = abs(\n",
    "        eval_average_metric(\n",
    "            estimator, \n",
    "            X_train_transf, \n",
    "            y_train, \n",
    "            scoring='neg_mean_absolute_error', \n",
    "            cv=10, \n",
    "            precision=0\n",
    "        )\n",
    "    )\n",
    "\n",
    "    print(50*\"#\")\n",
    "    print(f\"{i+1}) \",estimator.__class__.__name__)\n",
    "    print('R2 = %s' % r2)\n",
    "    print('MAE = %s' % mae)\n",
    "    \n",
    "    train_sizes, train_scores, test_scores, fit_times, _ = learning_curve(\n",
    "        estimator,\n",
    "        X_train_transf,\n",
    "        y_train,\n",
    "        cv=KFold(n_splits=5, shuffle=True),\n",
    "        scoring = make_scorer(r2_score, greater_is_better=True),\n",
    "        train_sizes=np.linspace(0.1, 1.0, 10),\n",
    "        return_times=True,\n",
    "    )\n",
    "\n",
    "\n",
    "    train_scores_mean = np.mean(train_scores, axis=1)\n",
    "    train_scores_std = np.std(train_scores, axis=1)\n",
    "    test_scores_mean = np.mean(test_scores, axis=1)\n",
    "    test_scores_std = np.std(test_scores, axis=1)\n",
    "    fit_times_mean = np.mean(fit_times, axis=1)\n",
    "    fit_times_std = np.std(fit_times, axis=1)\n",
    "\n",
    "    plt.close()\n",
    "    plt.plot(train_sizes, train_scores_mean, label='train')\n",
    "    plt.plot(train_sizes, test_scores_mean, label='test')\n",
    "    plt.legend()\n",
    "    plt.ylim([0,1])\n",
    "    plt.grid()\n",
    "    plt.show()\n",
    "\n",
    "    print(\"\\n\")"
   ]
  },
  {
   "cell_type": "code",
   "execution_count": 167,
   "id": "a21cbb25",
   "metadata": {},
   "outputs": [
    {
     "data": {
      "text/plain": [
       "array([0.83153551, 0.80261674, 0.78277969, 0.78304512, 0.77701381,\n",
       "       0.7736599 , 0.77459727, 0.77553898, 0.76559355, 0.76653358])"
      ]
     },
     "execution_count": 167,
     "metadata": {},
     "output_type": "execute_result"
    }
   ],
   "source": [
    "estimator = LinearRegression()\n",
    "\n",
    "train_sizes, train_scores, test_scores, fit_times, _ = learning_curve(\n",
    "    estimator,\n",
    "    X_train_transf,\n",
    "    y_train,\n",
    "    cv=KFold(n_splits=5, shuffle=True),\n",
    "    scoring = make_scorer(r2_score, greater_is_better=True),\n",
    "    train_sizes=np.linspace(0.1, 1.0, 10),\n",
    "    return_times=True,\n",
    ")\n",
    "\n",
    "\n",
    "train_scores_mean = np.mean(train_scores, axis=1)\n",
    "test_scores_mean = np.mean(test_scores, axis=1)\n",
    "\n",
    "train_scores_mean"
   ]
  },
  {
   "cell_type": "code",
   "execution_count": 162,
   "id": "a55e1fbd",
   "metadata": {},
   "outputs": [
    {
     "data": {
      "text/plain": [
       "array([[0., 0., 0., 0., 0.],\n",
       "       [0., 0., 0., 0., 0.],\n",
       "       [0., 0., 0., 0., 0.],\n",
       "       [0., 0., 0., 0., 0.],\n",
       "       [0., 0., 0., 0., 0.],\n",
       "       [0., 0., 0., 0., 0.],\n",
       "       [0., 0., 0., 0., 0.],\n",
       "       [0., 0., 0., 0., 0.],\n",
       "       [0., 0., 0., 0., 0.],\n",
       "       [0., 0., 0., 0., 0.]])"
      ]
     },
     "execution_count": 162,
     "metadata": {},
     "output_type": "execute_result"
    }
   ],
   "source": []
  },
  {
   "cell_type": "code",
   "execution_count": 150,
   "id": "73b856a8",
   "metadata": {},
   "outputs": [
    {
     "data": {
      "text/plain": [
       "array([[0., 0., 0., 0., 0.],\n",
       "       [0., 0., 0., 0., 0.],\n",
       "       [0., 0., 0., 0., 0.],\n",
       "       [0., 0., 0., 0., 0.],\n",
       "       [0., 0., 0., 0., 0.],\n",
       "       [0., 0., 0., 0., 0.],\n",
       "       [0., 0., 0., 0., 0.],\n",
       "       [0., 0., 0., 0., 0.],\n",
       "       [0., 0., 0., 0., 0.],\n",
       "       [0., 0., 0., 0., 0.]])"
      ]
     },
     "execution_count": 150,
     "metadata": {},
     "output_type": "execute_result"
    }
   ],
   "source": [
    "train_scores"
   ]
  },
  {
   "cell_type": "code",
   "execution_count": 137,
   "id": "5d0cff17",
   "metadata": {},
   "outputs": [],
   "source": [
    "from sklearn.model_selection import learning_curve\n",
    "from sklearn.metrics import make_scorer, r2_score, mean_absolute_error, mean_squared_error\n",
    "from sklearn.model_selection import KFold\n",
    "# (score_func, *, greater_is_better=True"
   ]
  },
  {
   "cell_type": "code",
   "execution_count": 205,
   "id": "c8193d4c",
   "metadata": {},
   "outputs": [
    {
     "data": {
      "image/png": "[encoded data removed]",
      "text/plain": [
       "<Figure size 432x288 with 1 Axes>"
      ]
     },
     "metadata": {
      "needs_background": "light"
     },
     "output_type": "display_data"
    }
   ],
   "source": [
    "estimator = LGBMRegressor(boosting_type=\"rf\", n_estimators=100)\n",
    "\n",
    "train_sizes, train_scores, test_scores, fit_times, _ = learning_curve(\n",
    "    estimator,\n",
    "    X_train_transf,\n",
    "    y_train,\n",
    "    cv=KFold(n_splits=5, shuffle=True),\n",
    "    scoring = make_scorer(r2_score, greater_is_better=True),\n",
    "    train_sizes=np.linspace(0.1, 1.0, 10),\n",
    "    return_times=True,\n",
    ")\n",
    "\n",
    "\n",
    "train_scores_mean = np.mean(train_scores, axis=1)\n",
    "train_scores_std = np.std(train_scores, axis=1)\n",
    "test_scores_mean = np.mean(test_scores, axis=1)\n",
    "test_scores_std = np.std(test_scores, axis=1)\n",
    "fit_times_mean = np.mean(fit_times, axis=1)\n",
    "fit_times_std = np.std(fit_times, axis=1)\n",
    "\n",
    "\n",
    "\n",
    "plt.close()\n",
    "plt.plot(train_sizes, train_scores_mean, label='train')\n",
    "plt.plot(train_sizes, test_scores_mean, label='test')\n",
    "plt.legend()\n",
    "# plt.ylim([0.5,1])\n",
    "plt.grid()\n",
    "plt.show()"
   ]
  },
  {
   "cell_type": "code",
   "execution_count": 204,
   "id": "744378f2",
   "metadata": {},
   "outputs": [
    {
     "data": {
      "text/plain": [
       "array([ 224,  449,  673,  898, 1123, 1347, 1572, 1796, 2021, 2246])"
      ]
     },
     "execution_count": 204,
     "metadata": {},
     "output_type": "execute_result"
    }
   ],
   "source": [
    "train_sizes"
   ]
  },
  {
   "cell_type": "code",
   "execution_count": 199,
   "id": "dcc771a4",
   "metadata": {},
   "outputs": [
    {
     "data": {
      "image/png": "[encoded data removed]",
      "text/plain": [
       "<Figure size 432x288 with 1 Axes>"
      ]
     },
     "metadata": {
      "needs_background": "light"
     },
     "output_type": "display_data"
    }
   ],
   "source": [
    "estimator = LGBMRegressor(reg_lambda = 1*10**3,)\n",
    "\n",
    "train_sizes, train_scores, test_scores, fit_times, _ = learning_curve(\n",
    "    estimator,\n",
    "    X_train_transf,\n",
    "    y_train,\n",
    "    cv=KFold(n_splits=5, shuffle=True),\n",
    "    scoring = make_scorer(r2_score, greater_is_better=True),\n",
    "    train_sizes=np.linspace(0.1, 1.0, 10),\n",
    "    return_times=True,\n",
    ")\n",
    "\n",
    "\n",
    "train_scores_mean = np.mean(train_scores, axis=1)\n",
    "train_scores_std = np.std(train_scores, axis=1)\n",
    "test_scores_mean = np.mean(test_scores, axis=1)\n",
    "test_scores_std = np.std(test_scores, axis=1)\n",
    "fit_times_mean = np.mean(fit_times, axis=1)\n",
    "fit_times_std = np.std(fit_times, axis=1)\n",
    "\n",
    "\n",
    "\n",
    "plt.close()\n",
    "plt.plot(train_sizes, train_scores_mean, label='train')\n",
    "plt.plot(train_sizes, test_scores_mean, label='test')\n",
    "plt.legend()\n",
    "plt.ylim([0.5,1])\n",
    "plt.grid()\n",
    "plt.show()"
   ]
  },
  {
   "cell_type": "code",
   "execution_count": null,
   "id": "e568e5cb",
   "metadata": {},
   "outputs": [],
   "source": []
  },
  {
   "cell_type": "code",
   "execution_count": null,
   "id": "9510d6c9",
   "metadata": {},
   "outputs": [],
   "source": []
  },
  {
   "cell_type": "markdown",
   "id": "8d6b607f",
   "metadata": {},
   "source": [
    "# Modelling"
   ]
  },
  {
   "cell_type": "code",
   "execution_count": null,
   "id": "47e30fda",
   "metadata": {},
   "outputs": [],
   "source": [
    "# generate_eda_report(X_train_fe)\n",
    "\n",
    "# -- Hyperparameter Tunning ---------------------\n",
    "tunner = HyperparameterTunner()\n",
    "tunner.fit(X_train_transf, y_train)\n",
    "# logg to best parameters\n",
    "\n",
    "# -- getting best estimator -------------------\n",
    "estimator = tunner.best_estimator_ \n",
    "\n",
    "# -- model save -------------------\n",
    "update_model_artifacts(preprocessor,estimator,tunner)\n",
    "\n",
    "\n",
    "mean_absolute_error(y_test, estimator.predict(X_test_transf))"
   ]
  },
  {
   "cell_type": "code",
   "execution_count": 25,
   "id": "31079950",
   "metadata": {},
   "outputs": [
    {
     "data": {
      "text/plain": [
       "104311.25397496909"
      ]
     },
     "execution_count": 25,
     "metadata": {},
     "output_type": "execute_result"
    }
   ],
   "source": [
    "mean_absolute_error(y_test, estimator.predict(X_test_transf))"
   ]
  },
  {
   "cell_type": "code",
   "execution_count": 12,
   "id": "aad35344",
   "metadata": {},
   "outputs": [
    {
     "data": {
      "text/plain": [
       "116616.67293654206"
      ]
     },
     "execution_count": 12,
     "metadata": {},
     "output_type": "execute_result"
    }
   ],
   "source": [
    "np.mean(np.abs(y_test - estimator.predict(X_test_transf)))"
   ]
  },
  {
   "cell_type": "code",
   "execution_count": 13,
   "id": "575ee036",
   "metadata": {},
   "outputs": [
    {
     "data": {
      "text/plain": [
       "116616.67293654206"
      ]
     },
     "execution_count": 13,
     "metadata": {},
     "output_type": "execute_result"
    }
   ],
   "source": [
    "temp = (\n",
    "    X_test_transf\n",
    "    .assign(price = y_test.values)\n",
    "    .assign(price_pred = estimator.predict(X_test_transf))\n",
    "    .assign(error = y_test.values-estimator.predict(X_test_transf))\n",
    ")\n",
    "\n",
    "temp['error'].abs().mean()"
   ]
  },
  {
   "cell_type": "code",
   "execution_count": 14,
   "id": "c5a63270",
   "metadata": {},
   "outputs": [
    {
     "data": {
      "image/png": "[encoded data removed]",
      "text/plain": [
       "<Figure size 432x288 with 1 Axes>"
      ]
     },
     "metadata": {
      "needs_background": "light"
     },
     "output_type": "display_data"
    }
   ],
   "source": [
    "dist = (temp['error']/temp['price'])\n",
    "\n",
    "dist.hist(bins=300)\n",
    "\n",
    "plt.xlim([-0.2,0.2])\n",
    "plt.show()"
   ]
  },
  {
   "cell_type": "code",
   "execution_count": 15,
   "id": "20751bb4",
   "metadata": {},
   "outputs": [
    {
     "data": {
      "image/png": "[encoded data removed]",
      "text/plain": [
       "<Figure size 432x288 with 1 Axes>"
      ]
     },
     "metadata": {
      "needs_background": "light"
     },
     "output_type": "display_data"
    }
   ],
   "source": [
    "from scipy.stats import percentileofscore\n",
    "\n",
    "list_ = np.array([ [i, percentileofscore(dist.abs(), i)] for i in np.arange(0,1,0.0005) ])\n",
    "\n",
    "plt.plot(100*list_[:,0], list_[:,1])\n",
    "plt.xlim([0,50])\n",
    "plt.grid()\n",
    "plt.xlabel('Erro percentual (%)')\n",
    "plt.ylabel('Volumetria da base (%)')\n",
    "plt.show()"
   ]
  },
  {
   "cell_type": "code",
   "execution_count": 19,
   "id": "5907a158",
   "metadata": {},
   "outputs": [
    {
     "data": {
      "text/plain": [
       "GradientBoostingRegressor(learning_rate=0.07784750916224374, max_depth=6,\n",
       "                          min_samples_split=4, n_estimators=500,\n",
       "                          random_state=42, validation_fraction=None)"
      ]
     },
     "execution_count": 19,
     "metadata": {},
     "output_type": "execute_result"
    }
   ],
   "source": [
    "estimator"
   ]
  },
  {
   "cell_type": "code",
   "execution_count": 86,
   "id": "26351040",
   "metadata": {},
   "outputs": [
    {
     "data": {
      "text/plain": [
       "0.1   -0.027387\n",
       "0.9    0.028515\n",
       "dtype: float64"
      ]
     },
     "execution_count": 86,
     "metadata": {},
     "output_type": "execute_result"
    }
   ],
   "source": [
    "dist.quantile([0.1,0.9])"
   ]
  },
  {
   "cell_type": "code",
   "execution_count": 16,
   "id": "3255ad3b",
   "metadata": {},
   "outputs": [
    {
     "data": {
      "image/png": "[encoded data removed]",
      "text/plain": [
       "<Figure size 432x288 with 1 Axes>"
      ]
     },
     "metadata": {
      "needs_background": "light"
     },
     "output_type": "display_data"
    }
   ],
   "source": [
    "plt.scatter(np.log10(temp['price']), temp['error']/temp['price'])\n",
    "# plt.ylim([-500000,500000])\n",
    "plt.show()"
   ]
  },
  {
   "cell_type": "code",
   "execution_count": 36,
   "id": "1b9c097b",
   "metadata": {},
   "outputs": [],
   "source": [
    "# %%time\n",
    "\n",
    "# from sklearn.ensemble import GradientBoostingRegressor\n",
    "# from sklearn.metrics import mean_absolute_error\n",
    "\n",
    "# estimator = GradientBoostingRegressor(\n",
    "#     learning_rate=0.9,\n",
    "#     max_depth=10,\n",
    "#     random_state=42,\n",
    "#     n_estimators=200\n",
    "# )\n",
    "\n",
    "# estimator.fit(X_train_transf, y_train)\n",
    "\n",
    "# y_test_pred = estimator.predict(X_test_transf)\n",
    "# print('MAE test:',mean_absolute_error(y_test, y_test_pred))\n",
    "\n",
    "# y_train_pred = estimator.predict(X_train_transf)\n",
    "# print('MAE train:',mean_absolute_error(y_train, y_train_pred))"
   ]
  },
  {
   "cell_type": "code",
   "execution_count": 38,
   "id": "1a6c2706",
   "metadata": {},
   "outputs": [],
   "source": [
    "# %%time\n",
    "\n",
    "# from sklearn.ensemble import RandomForestRegressor\n",
    "# from sklearn.metrics import mean_absolute_error\n",
    "\n",
    "# estimator = RandomForestRegressor(\n",
    "#     random_state=42\n",
    "# )\n",
    "\n",
    "# estimator.fit(X_train_transf, y_train)\n",
    "\n",
    "# y_test_pred = estimator.predict(X_test_transf)\n",
    "# print('MAE test:',mean_absolute_error(y_test, y_test_pred))\n",
    "\n",
    "# y_train_pred = estimator.predict(X_train_transf)\n",
    "# print('MAE train:',mean_absolute_error(y_train, y_train_pred))"
   ]
  },
  {
   "cell_type": "code",
   "execution_count": 26,
   "id": "8cc2f95c",
   "metadata": {},
   "outputs": [
    {
     "data": {
      "text/plain": [
       "204942.89688800712"
      ]
     },
     "execution_count": 26,
     "metadata": {},
     "output_type": "execute_result"
    }
   ],
   "source": [
    "np.sqrt(-tunner.best_score_)"
   ]
  },
  {
   "cell_type": "code",
   "execution_count": 27,
   "id": "d650e77d",
   "metadata": {},
   "outputs": [
    {
     "data": {
      "text/plain": [
       "OrderedDict([('learning_rate', 0.07784750916224374),\n",
       "             ('max_depth', 6),\n",
       "             ('min_samples_split', 4),\n",
       "             ('n_estimators', 500)])"
      ]
     },
     "execution_count": 27,
     "metadata": {},
     "output_type": "execute_result"
    }
   ],
   "source": [
    "tunner.best_params_"
   ]
  },
  {
   "cell_type": "code",
   "execution_count": 43,
   "id": "75e9f5d2",
   "metadata": {},
   "outputs": [
    {
     "name": "stdout",
     "output_type": "stream",
     "text": [
      "Preço = 858k\n"
     ]
    }
   ],
   "source": [
    "from model.data.cleaning import raw_sanitize\n",
    "\n",
    "estimator = load_pickle('models/GradientBoostingRegressor/estimator.pickle')\n",
    "\n",
    "params = {\n",
    "    \"area\": 195,\n",
    "    \"n_bathrooms\": 3, #banheiros\n",
    "    \"n_bedrooms\": 2,  #quartos\n",
    "    \"n_parking_spaces\": 4, #garagem\n",
    "    \"n_suites\": 1,\n",
    "    \"neighborhood\": \"Residencial Greenville\",\n",
    "    \"type\": \"HOME\",\n",
    "    \"condo_fee\": np.nan,\n",
    "    \"iptu\": np.nan,\n",
    "    \"latitude\": np.nan,\n",
    "    \"longitude\": np.nan,\n",
    "}\n",
    "\n",
    "X_new = pd.DataFrame(\n",
    "    {\n",
    "        'n_parking_spaces': [params['n_parking_spaces']],\n",
    "        'n_bathrooms': [params['n_bathrooms']],\n",
    "        'n_bedrooms': [params['n_bedrooms']],\n",
    "        'area': [params['area']], \n",
    "        'n_suites': [params['n_suites']],\n",
    "        'longitude': [params['longitude']],\n",
    "        'latitude': [params['latitude']],\n",
    "        'neighborhood': [params['neighborhood']],\n",
    "        'condo_fee': [params['condo_fee']],\n",
    "        'iptu': [params['iptu']],\n",
    "        'search_date': [\"2022-08-12\"],\n",
    "    }\n",
    ")\n",
    "\n",
    "X_new['neighborhood'] = X_new['neighborhood'].apply(str)\n",
    "\n",
    "X_processed = (\n",
    "    X_new\n",
    "    .pipe(raw_sanitize)\n",
    "    .pipe(add_external_data)\n",
    "    .pipe(feature_engineering)\n",
    "    .pipe(preprocessor.transform)\n",
    "    #.pipe(estimator.predict)\n",
    ")\n",
    "\n",
    "print(\"Preço = {:.0f}k\".format(\n",
    "    estimator.predict(X_processed)[0]/1000,\n",
    "    )\n",
    ")"
   ]
  },
  {
   "cell_type": "code",
   "execution_count": 79,
   "id": "41e9ade6",
   "metadata": {},
   "outputs": [
    {
     "data": {
      "text/plain": [
       "0    nan\n",
       "Name: neighborhood, dtype: object"
      ]
     },
     "execution_count": 79,
     "metadata": {},
     "output_type": "execute_result"
    }
   ],
   "source": [
    "X_new['neighborhood'].astype(str)"
   ]
  },
  {
   "cell_type": "code",
   "execution_count": 17,
   "id": "7fec99ab",
   "metadata": {},
   "outputs": [
    {
     "data": {
      "text/plain": [
       "552106.2151327174"
      ]
     },
     "execution_count": 17,
     "metadata": {},
     "output_type": "execute_result"
    }
   ],
   "source": []
  },
  {
   "cell_type": "code",
   "execution_count": 18,
   "id": "b4dc84de",
   "metadata": {},
   "outputs": [
    {
     "data": {
      "text/plain": [
       "483433.1484641631"
      ]
     },
     "execution_count": 18,
     "metadata": {},
     "output_type": "execute_result"
    }
   ],
   "source": []
  },
  {
   "cell_type": "code",
   "execution_count": 19,
   "id": "a67d1bf4",
   "metadata": {},
   "outputs": [
    {
     "data": {
      "text/plain": [
       "631053.087276842"
      ]
     },
     "execution_count": 19,
     "metadata": {},
     "output_type": "execute_result"
    }
   ],
   "source": []
  },
  {
   "cell_type": "code",
   "execution_count": 71,
   "id": "d8ae974a",
   "metadata": {},
   "outputs": [
    {
     "data": {
      "text/plain": [
       "{'prediction': 334421.21192755195}"
      ]
     },
     "execution_count": 71,
     "metadata": {},
     "output_type": "execute_result"
    }
   ],
   "source": [
    "import requests\n",
    "import json\n",
    "url = \"https://estate-predict-pc.herokuapp.com/api/predictor\"\n",
    "headers = {'Content-type': 'application/json', 'Accept': 'text/plain'}\n",
    "\n",
    "\n",
    "r = requests.post(url, data=json.dumps(params), headers=headers)\n",
    "r.json()"
   ]
  },
  {
   "cell_type": "code",
   "execution_count": 82,
   "id": "ae0c2c73",
   "metadata": {},
   "outputs": [
    {
     "data": {
      "text/html": [
       "<div>\n",
       "<style scoped>\n",
       "    .dataframe tbody tr th:only-of-type {\n",
       "        vertical-align: middle;\n",
       "    }\n",
       "\n",
       "    .dataframe tbody tr th {\n",
       "        vertical-align: top;\n",
       "    }\n",
       "\n",
       "    .dataframe thead th {\n",
       "        text-align: right;\n",
       "    }\n",
       "</style>\n",
       "<table border=\"1\" class=\"dataframe\">\n",
       "  <thead>\n",
       "    <tr style=\"text-align: right;\">\n",
       "      <th></th>\n",
       "      <th>feature</th>\n",
       "      <th>importance</th>\n",
       "    </tr>\n",
       "  </thead>\n",
       "  <tbody>\n",
       "    <tr>\n",
       "      <th>3</th>\n",
       "      <td>area</td>\n",
       "      <td>0.557549</td>\n",
       "    </tr>\n",
       "    <tr>\n",
       "      <th>5</th>\n",
       "      <td>neighborhood</td>\n",
       "      <td>0.232457</td>\n",
       "    </tr>\n",
       "    <tr>\n",
       "      <th>4</th>\n",
       "      <td>n_suites</td>\n",
       "      <td>0.077390</td>\n",
       "    </tr>\n",
       "    <tr>\n",
       "      <th>0</th>\n",
       "      <td>n_parking_spaces</td>\n",
       "      <td>0.020698</td>\n",
       "    </tr>\n",
       "    <tr>\n",
       "      <th>2</th>\n",
       "      <td>n_bedrooms</td>\n",
       "      <td>0.016299</td>\n",
       "    </tr>\n",
       "    <tr>\n",
       "      <th>1</th>\n",
       "      <td>n_bathrooms</td>\n",
       "      <td>0.015832</td>\n",
       "    </tr>\n",
       "    <tr>\n",
       "      <th>6</th>\n",
       "      <td>longitude</td>\n",
       "      <td>0.014059</td>\n",
       "    </tr>\n",
       "    <tr>\n",
       "      <th>7</th>\n",
       "      <td>latitude</td>\n",
       "      <td>0.010290</td>\n",
       "    </tr>\n",
       "    <tr>\n",
       "      <th>8</th>\n",
       "      <td>condo_fee</td>\n",
       "      <td>0.009738</td>\n",
       "    </tr>\n",
       "    <tr>\n",
       "      <th>9</th>\n",
       "      <td>iptu</td>\n",
       "      <td>0.008320</td>\n",
       "    </tr>\n",
       "    <tr>\n",
       "      <th>13</th>\n",
       "      <td>pct_domicilios_por_sal_min_1_2</td>\n",
       "      <td>0.005428</td>\n",
       "    </tr>\n",
       "    <tr>\n",
       "      <th>16</th>\n",
       "      <td>pct_domicilios_por_sal_min_10_20</td>\n",
       "      <td>0.004744</td>\n",
       "    </tr>\n",
       "    <tr>\n",
       "      <th>17</th>\n",
       "      <td>pct_domicilios_por_sal_min_20_inf</td>\n",
       "      <td>0.004533</td>\n",
       "    </tr>\n",
       "    <tr>\n",
       "      <th>10</th>\n",
       "      <td>pct_domicilios_por_sal_min_0</td>\n",
       "      <td>0.003554</td>\n",
       "    </tr>\n",
       "    <tr>\n",
       "      <th>14</th>\n",
       "      <td>pct_domicilios_por_sal_min_2_5</td>\n",
       "      <td>0.003472</td>\n",
       "    </tr>\n",
       "    <tr>\n",
       "      <th>20</th>\n",
       "      <td>passing_days</td>\n",
       "      <td>0.003445</td>\n",
       "    </tr>\n",
       "    <tr>\n",
       "      <th>12</th>\n",
       "      <td>pct_domicilios_por_sal_min_0.5_1</td>\n",
       "      <td>0.002590</td>\n",
       "    </tr>\n",
       "    <tr>\n",
       "      <th>18</th>\n",
       "      <td>neighbor_avg_income</td>\n",
       "      <td>0.002578</td>\n",
       "    </tr>\n",
       "    <tr>\n",
       "      <th>19</th>\n",
       "      <td>taxa_alfabetizacao_bairro</td>\n",
       "      <td>0.002488</td>\n",
       "    </tr>\n",
       "    <tr>\n",
       "      <th>15</th>\n",
       "      <td>pct_domicilios_por_sal_min_5_10</td>\n",
       "      <td>0.002306</td>\n",
       "    </tr>\n",
       "    <tr>\n",
       "      <th>11</th>\n",
       "      <td>pct_domicilios_por_sal_min_0_0.5</td>\n",
       "      <td>0.002229</td>\n",
       "    </tr>\n",
       "  </tbody>\n",
       "</table>\n",
       "</div>"
      ],
      "text/plain": [
       "                              feature  importance\n",
       "3                                area    0.557549\n",
       "5                        neighborhood    0.232457\n",
       "4                            n_suites    0.077390\n",
       "0                    n_parking_spaces    0.020698\n",
       "2                          n_bedrooms    0.016299\n",
       "1                         n_bathrooms    0.015832\n",
       "6                           longitude    0.014059\n",
       "7                            latitude    0.010290\n",
       "8                           condo_fee    0.009738\n",
       "9                                iptu    0.008320\n",
       "13     pct_domicilios_por_sal_min_1_2    0.005428\n",
       "16   pct_domicilios_por_sal_min_10_20    0.004744\n",
       "17  pct_domicilios_por_sal_min_20_inf    0.004533\n",
       "10       pct_domicilios_por_sal_min_0    0.003554\n",
       "14     pct_domicilios_por_sal_min_2_5    0.003472\n",
       "20                       passing_days    0.003445\n",
       "12   pct_domicilios_por_sal_min_0.5_1    0.002590\n",
       "18                neighbor_avg_income    0.002578\n",
       "19          taxa_alfabetizacao_bairro    0.002488\n",
       "15    pct_domicilios_por_sal_min_5_10    0.002306\n",
       "11   pct_domicilios_por_sal_min_0_0.5    0.002229"
      ]
     },
     "execution_count": 82,
     "metadata": {},
     "output_type": "execute_result"
    }
   ],
   "source": [
    "pd.DataFrame(\n",
    "    {\n",
    "        'feature': X_train_transf.columns,\n",
    "        'importance': estimator.feature_importances_,\n",
    "    }\n",
    ").sort_values('importance', ascending=False)\n",
    "\n"
   ]
  },
  {
   "cell_type": "code",
   "execution_count": 87,
   "id": "7259b6ff",
   "metadata": {},
   "outputs": [
    {
     "data": {
      "text/html": [
       "<div>\n",
       "<style scoped>\n",
       "    .dataframe tbody tr th:only-of-type {\n",
       "        vertical-align: middle;\n",
       "    }\n",
       "\n",
       "    .dataframe tbody tr th {\n",
       "        vertical-align: top;\n",
       "    }\n",
       "\n",
       "    .dataframe thead th {\n",
       "        text-align: right;\n",
       "    }\n",
       "</style>\n",
       "<table border=\"1\" class=\"dataframe\">\n",
       "  <thead>\n",
       "    <tr style=\"text-align: right;\">\n",
       "      <th></th>\n",
       "      <th>area</th>\n",
       "      <th>neighborhood</th>\n",
       "      <th>n_suites</th>\n",
       "      <th>n_parking_spaces</th>\n",
       "      <th>n_bedrooms</th>\n",
       "      <th>n_bathrooms</th>\n",
       "      <th>latitude</th>\n",
       "      <th>longitude</th>\n",
       "    </tr>\n",
       "  </thead>\n",
       "  <tbody>\n",
       "    <tr>\n",
       "      <th>0</th>\n",
       "      <td>100</td>\n",
       "      <td>dom_bosco</td>\n",
       "      <td>0</td>\n",
       "      <td>3</td>\n",
       "      <td>3</td>\n",
       "      <td>3</td>\n",
       "      <td>NaN</td>\n",
       "      <td>NaN</td>\n",
       "    </tr>\n",
       "    <tr>\n",
       "      <th>1</th>\n",
       "      <td>200</td>\n",
       "      <td>centro</td>\n",
       "      <td>1</td>\n",
       "      <td>1</td>\n",
       "      <td>1</td>\n",
       "      <td>1</td>\n",
       "      <td>NaN</td>\n",
       "      <td>NaN</td>\n",
       "    </tr>\n",
       "  </tbody>\n",
       "</table>\n",
       "</div>"
      ],
      "text/plain": [
       "   area neighborhood  n_suites  n_parking_spaces  n_bedrooms  n_bathrooms  \\\n",
       "0   100    dom_bosco         0                 3           3            3   \n",
       "1   200       centro         1                 1           1            1   \n",
       "\n",
       "   latitude  longitude  \n",
       "0       NaN        NaN  \n",
       "1       NaN        NaN  "
      ]
     },
     "execution_count": 87,
     "metadata": {},
     "output_type": "execute_result"
    }
   ],
   "source": []
  },
  {
   "cell_type": "code",
   "execution_count": null,
   "id": "9f37b8e1",
   "metadata": {},
   "outputs": [],
   "source": []
  },
  {
   "cell_type": "code",
   "execution_count": 78,
   "id": "d6aee062",
   "metadata": {},
   "outputs": [
    {
     "data": {
      "image/png": "[encoded data removed]",
      "text/plain": [
       "<Figure size 432x288 with 2 Axes>"
      ]
     },
     "metadata": {
      "needs_background": "light"
     },
     "output_type": "display_data"
    }
   ],
   "source": [
    "# plt.scatter(iris.sepal_length, iris.sepal_width, alpha = .8, c = iris.petal_length, cmap = 'seismic')\n",
    "# cbar = plt.colorbar()\n",
    "\n",
    "plt.scatter(\n",
    "    X_train_transf['longitude'],\n",
    "    X_train_transf['latitude'],\n",
    "    c = X_train['neighbor_avg_income'],\n",
    "    alpha = 0.5,\n",
    ")\n",
    "cbar = plt.colorbar()\n",
    "plt.show()"
   ]
  },
  {
   "cell_type": "code",
   "execution_count": 70,
   "id": "c2d980ce",
   "metadata": {},
   "outputs": [
    {
     "data": {
      "text/plain": [
       "0.0021289553871455687"
      ]
     },
     "execution_count": 70,
     "metadata": {},
     "output_type": "execute_result"
    }
   ],
   "source": [
    "X_train_transf.assign(price=y_train).corr()['neighbor_avg_income']['price']"
   ]
  },
  {
   "cell_type": "code",
   "execution_count": 68,
   "id": "c3e21970",
   "metadata": {},
   "outputs": [
    {
     "data": {
      "text/plain": [
       "<matplotlib.collections.PathCollection at 0x7fdcf46aa3a0>"
      ]
     },
     "execution_count": 68,
     "metadata": {},
     "output_type": "execute_result"
    },
    {
     "data": {
      "image/png": "[encoded data removed]",
      "text/plain": [
       "<Figure size 432x288 with 1 Axes>"
      ]
     },
     "metadata": {
      "needs_background": "light"
     },
     "output_type": "display_data"
    }
   ],
   "source": [
    "plt.scatter(\n",
    "    X_train_transf['neighbor_avg_income'],\n",
    "    y_train\n",
    ")"
   ]
  },
  {
   "cell_type": "code",
   "execution_count": 53,
   "id": "aa83cdcb",
   "metadata": {},
   "outputs": [
    {
     "data": {
      "image/png": "[encoded data removed]",
      "text/plain": [
       "<Figure size 432x288 with 1 Axes>"
      ]
     },
     "metadata": {
      "needs_background": "light"
     },
     "output_type": "display_data"
    }
   ],
   "source": [
    "plt.scatter(X_train_transf['pop_2022_proj'], y_train)\n",
    "\n",
    "plt.show()"
   ]
  },
  {
   "cell_type": "code",
   "execution_count": 55,
   "id": "20093aa4",
   "metadata": {},
   "outputs": [
    {
     "data": {
      "text/html": [
       "<div>\n",
       "<style scoped>\n",
       "    .dataframe tbody tr th:only-of-type {\n",
       "        vertical-align: middle;\n",
       "    }\n",
       "\n",
       "    .dataframe tbody tr th {\n",
       "        vertical-align: top;\n",
       "    }\n",
       "\n",
       "    .dataframe thead th {\n",
       "        text-align: right;\n",
       "    }\n",
       "</style>\n",
       "<table border=\"1\" class=\"dataframe\">\n",
       "  <thead>\n",
       "    <tr style=\"text-align: right;\">\n",
       "      <th></th>\n",
       "      <th>id</th>\n",
       "      <th>type</th>\n",
       "      <th>n_parking_spaces</th>\n",
       "      <th>n_bathrooms</th>\n",
       "      <th>n_bedrooms</th>\n",
       "      <th>area</th>\n",
       "      <th>n_suites</th>\n",
       "      <th>neighborhood</th>\n",
       "      <th>longitude</th>\n",
       "      <th>latitude</th>\n",
       "      <th>condo_fee</th>\n",
       "      <th>iptu</th>\n",
       "      <th>search_date</th>\n",
       "      <th>neighbor_region</th>\n",
       "      <th>neighbor_latitude</th>\n",
       "      <th>neighbor_longitude</th>\n",
       "      <th>pop_2000</th>\n",
       "      <th>pop_2010</th>\n",
       "      <th>pop_2022_proj</th>\n",
       "      <th>pct_domicilios_por_sal_min_0</th>\n",
       "      <th>pct_domicilios_por_sal_min_0_0.5</th>\n",
       "      <th>pct_domicilios_por_sal_min_0.5_1</th>\n",
       "      <th>pct_domicilios_por_sal_min_1_2</th>\n",
       "      <th>pct_domicilios_por_sal_min_2_5</th>\n",
       "      <th>pct_domicilios_por_sal_min_5_10</th>\n",
       "      <th>pct_domicilios_por_sal_min_10_20</th>\n",
       "      <th>pct_domicilios_por_sal_min_20_inf</th>\n",
       "      <th>neighbor_avg_income</th>\n",
       "      <th>taxa_alfabetizacao_bairro</th>\n",
       "    </tr>\n",
       "  </thead>\n",
       "  <tbody>\n",
       "    <tr>\n",
       "      <th>14818</th>\n",
       "      <td>49070</td>\n",
       "      <td>HOME</td>\n",
       "      <td>0.0</td>\n",
       "      <td>1.0</td>\n",
       "      <td>2.0</td>\n",
       "      <td>76.0</td>\n",
       "      <td>0.0</td>\n",
       "      <td>jardim_sao_bento</td>\n",
       "      <td>-46.570001</td>\n",
       "      <td>-21.835916</td>\n",
       "      <td>0.0</td>\n",
       "      <td>0.0</td>\n",
       "      <td>2022-06-12 00:00:00.000000000</td>\n",
       "      <td>Região Urbana Homogênea XII</td>\n",
       "      <td>-21.835497</td>\n",
       "      <td>-46.570397</td>\n",
       "      <td>11431.0</td>\n",
       "      <td>16456.0</td>\n",
       "      <td>22486.0</td>\n",
       "      <td>0.007001</td>\n",
       "      <td>0.098020</td>\n",
       "      <td>0.231446</td>\n",
       "      <td>0.507702</td>\n",
       "      <td>0.126425</td>\n",
       "      <td>0.010202</td>\n",
       "      <td>0.001400</td>\n",
       "      <td>0.017804</td>\n",
       "      <td>855.65</td>\n",
       "      <td>95.6</td>\n",
       "    </tr>\n",
       "    <tr>\n",
       "      <th>8925</th>\n",
       "      <td>29711</td>\n",
       "      <td>HOME</td>\n",
       "      <td>2.0</td>\n",
       "      <td>1.0</td>\n",
       "      <td>3.0</td>\n",
       "      <td>145.0</td>\n",
       "      <td>1.0</td>\n",
       "      <td>pqe_nacoes</td>\n",
       "      <td>-46.565568</td>\n",
       "      <td>-21.850109</td>\n",
       "      <td>0.0</td>\n",
       "      <td>0.0</td>\n",
       "      <td>2022-05-01 00:00:00.000000000</td>\n",
       "      <td>Região Urbana Homogênea XIII</td>\n",
       "      <td>-21.849207</td>\n",
       "      <td>-46.564557</td>\n",
       "      <td>10436.0</td>\n",
       "      <td>11415.0</td>\n",
       "      <td>12590.0</td>\n",
       "      <td>0.006659</td>\n",
       "      <td>0.125362</td>\n",
       "      <td>0.242617</td>\n",
       "      <td>0.475680</td>\n",
       "      <td>0.109438</td>\n",
       "      <td>0.009554</td>\n",
       "      <td>0.000869</td>\n",
       "      <td>0.029820</td>\n",
       "      <td>823.98</td>\n",
       "      <td>95.3</td>\n",
       "    </tr>\n",
       "    <tr>\n",
       "      <th>18272</th>\n",
       "      <td>63265</td>\n",
       "      <td>HOME</td>\n",
       "      <td>3.0</td>\n",
       "      <td>2.0</td>\n",
       "      <td>4.0</td>\n",
       "      <td>230.0</td>\n",
       "      <td>1.0</td>\n",
       "      <td>parque_vivaldi_leite_ribeiro</td>\n",
       "      <td>-46.557005</td>\n",
       "      <td>-21.798239</td>\n",
       "      <td>0.0</td>\n",
       "      <td>0.0</td>\n",
       "      <td>2022-07-24 00:00:00.000000000</td>\n",
       "      <td>Região Urbana Homogênea XX</td>\n",
       "      <td>-21.813756</td>\n",
       "      <td>-46.552913</td>\n",
       "      <td>527.0</td>\n",
       "      <td>2534.0</td>\n",
       "      <td>4942.0</td>\n",
       "      <td>0.001229</td>\n",
       "      <td>0.028256</td>\n",
       "      <td>0.079853</td>\n",
       "      <td>0.377150</td>\n",
       "      <td>0.321867</td>\n",
       "      <td>0.142506</td>\n",
       "      <td>0.028256</td>\n",
       "      <td>0.020885</td>\n",
       "      <td>1836.92</td>\n",
       "      <td>99.1</td>\n",
       "    </tr>\n",
       "  </tbody>\n",
       "</table>\n",
       "</div>"
      ],
      "text/plain": [
       "          id  type  n_parking_spaces  n_bathrooms  n_bedrooms   area  \\\n",
       "14818  49070  HOME               0.0          1.0         2.0   76.0   \n",
       "8925   29711  HOME               2.0          1.0         3.0  145.0   \n",
       "18272  63265  HOME               3.0          2.0         4.0  230.0   \n",
       "\n",
       "       n_suites                  neighborhood  longitude   latitude  \\\n",
       "14818       0.0              jardim_sao_bento -46.570001 -21.835916   \n",
       "8925        1.0                    pqe_nacoes -46.565568 -21.850109   \n",
       "18272       1.0  parque_vivaldi_leite_ribeiro -46.557005 -21.798239   \n",
       "\n",
       "       condo_fee  iptu                    search_date  \\\n",
       "14818        0.0   0.0  2022-06-12 00:00:00.000000000   \n",
       "8925         0.0   0.0  2022-05-01 00:00:00.000000000   \n",
       "18272        0.0   0.0  2022-07-24 00:00:00.000000000   \n",
       "\n",
       "                    neighbor_region  neighbor_latitude  neighbor_longitude  \\\n",
       "14818   Região Urbana Homogênea XII         -21.835497          -46.570397   \n",
       "8925   Região Urbana Homogênea XIII         -21.849207          -46.564557   \n",
       "18272    Região Urbana Homogênea XX         -21.813756          -46.552913   \n",
       "\n",
       "       pop_2000  pop_2010  pop_2022_proj  pct_domicilios_por_sal_min_0  \\\n",
       "14818   11431.0   16456.0        22486.0                      0.007001   \n",
       "8925    10436.0   11415.0        12590.0                      0.006659   \n",
       "18272     527.0    2534.0         4942.0                      0.001229   \n",
       "\n",
       "       pct_domicilios_por_sal_min_0_0.5  pct_domicilios_por_sal_min_0.5_1  \\\n",
       "14818                          0.098020                          0.231446   \n",
       "8925                           0.125362                          0.242617   \n",
       "18272                          0.028256                          0.079853   \n",
       "\n",
       "       pct_domicilios_por_sal_min_1_2  pct_domicilios_por_sal_min_2_5  \\\n",
       "14818                        0.507702                        0.126425   \n",
       "8925                         0.475680                        0.109438   \n",
       "18272                        0.377150                        0.321867   \n",
       "\n",
       "       pct_domicilios_por_sal_min_5_10  pct_domicilios_por_sal_min_10_20  \\\n",
       "14818                         0.010202                          0.001400   \n",
       "8925                          0.009554                          0.000869   \n",
       "18272                         0.142506                          0.028256   \n",
       "\n",
       "       pct_domicilios_por_sal_min_20_inf  neighbor_avg_income  \\\n",
       "14818                           0.017804               855.65   \n",
       "8925                            0.029820               823.98   \n",
       "18272                           0.020885              1836.92   \n",
       "\n",
       "       taxa_alfabetizacao_bairro  \n",
       "14818                       95.6  \n",
       "8925                        95.3  \n",
       "18272                       99.1  "
      ]
     },
     "execution_count": 55,
     "metadata": {},
     "output_type": "execute_result"
    }
   ],
   "source": [
    "X_train.head(3)"
   ]
  },
  {
   "cell_type": "code",
   "execution_count": 34,
   "id": "5526b628",
   "metadata": {},
   "outputs": [
    {
     "data": {
      "image/png": "[encoded data removed]",
      "text/plain": [
       "<Figure size 576x396 with 2 Axes>"
      ]
     },
     "metadata": {
      "needs_background": "light"
     },
     "output_type": "display_data"
    }
   ],
   "source": [
    "import shap\n",
    "\n",
    "X_temp = X_train_transf.sample(100)\n",
    "\n",
    "explainer = shap.TreeExplainer(estimator)\n",
    "shap_values = explainer.shap_values(X_temp)\n",
    "\n",
    "shap.summary_plot(shap_values, features=X_temp, feature_names=X_temp.columns)\n"
   ]
  },
  {
   "cell_type": "code",
   "execution_count": 26,
   "id": "0ce1db9b",
   "metadata": {},
   "outputs": [
    {
     "name": "stdout",
     "output_type": "stream",
     "text": [
      "size: 53\n"
     ]
    },
    {
     "data": {
      "text/plain": [
       "                                         25\n",
       "residencial_e_industrial_campo_alegre    11\n",
       "chacara_dos_cravos                        9\n",
       "castro_e_gaiga                            2\n",
       "colinas                                   1\n",
       "Name: neighborhood, dtype: int64"
      ]
     },
     "execution_count": 26,
     "metadata": {},
     "output_type": "execute_result"
    }
   ],
   "source": [
    "df_neighbor = pd.read_csv(filepaths[\"data_external_neighbor_path\"])\n",
    "\n",
    "temp = X_train_fe.loc[~X_train_fe['neighborhood'].isin(df_neighbor[\"neighborhood\"].to_list()), \"neighborhood\"]\n",
    "\n",
    "print(\"size:\",len(temp))\n",
    "\n",
    "temp.value_counts()"
   ]
  },
  {
   "cell_type": "code",
   "execution_count": 17,
   "id": "55070c32",
   "metadata": {},
   "outputs": [
    {
     "data": {
      "text/html": [
       "<div>\n",
       "<style scoped>\n",
       "    .dataframe tbody tr th:only-of-type {\n",
       "        vertical-align: middle;\n",
       "    }\n",
       "\n",
       "    .dataframe tbody tr th {\n",
       "        vertical-align: top;\n",
       "    }\n",
       "\n",
       "    .dataframe thead th {\n",
       "        text-align: right;\n",
       "    }\n",
       "</style>\n",
       "<table border=\"1\" class=\"dataframe\">\n",
       "  <thead>\n",
       "    <tr style=\"text-align: right;\">\n",
       "      <th></th>\n",
       "      <th>neighborhood</th>\n",
       "      <th>neighbor_region</th>\n",
       "      <th>neighbor_latitude</th>\n",
       "      <th>neighbor_longitude</th>\n",
       "    </tr>\n",
       "  </thead>\n",
       "  <tbody>\n",
       "    <tr>\n",
       "      <th>78</th>\n",
       "      <td>jardim_sao_sebastiao</td>\n",
       "      <td>Região Urbana Homogênea XIII</td>\n",
       "      <td>-21.858257</td>\n",
       "      <td>-46.571648</td>\n",
       "    </tr>\n",
       "    <tr>\n",
       "      <th>81</th>\n",
       "      <td>sao_sebastiao</td>\n",
       "      <td>Região Urbana Homogênea XIII</td>\n",
       "      <td>-21.858257</td>\n",
       "      <td>-46.571648</td>\n",
       "    </tr>\n",
       "  </tbody>\n",
       "</table>\n",
       "</div>"
      ],
      "text/plain": [
       "            neighborhood               neighbor_region  neighbor_latitude  \\\n",
       "78  jardim_sao_sebastiao  Região Urbana Homogênea XIII         -21.858257   \n",
       "81         sao_sebastiao  Região Urbana Homogênea XIII         -21.858257   \n",
       "\n",
       "    neighbor_longitude  \n",
       "78          -46.571648  \n",
       "81          -46.571648  "
      ]
     },
     "execution_count": 17,
     "metadata": {},
     "output_type": "execute_result"
    }
   ],
   "source": [
    "df_neighbor[df_neighbor[\"neighborhood\"].str.contains('seba')]"
   ]
  },
  {
   "cell_type": "code",
   "execution_count": 5,
   "id": "9af554af",
   "metadata": {},
   "outputs": [],
   "source": [
    "X_train_fe = feature_engineering(X_train)"
   ]
  },
  {
   "cell_type": "code",
   "execution_count": 19,
   "id": "2c74c32e",
   "metadata": {},
   "outputs": [],
   "source": [
    "import os\n",
    "import yaml\n",
    "import logging\n",
    "import pandas as pd\n",
    "from base.commons import load_yaml\n",
    "from model.data import sanitize\n",
    "\n",
    "\n",
    "REFERENCE_DATE = pd.to_datetime(\"2021-01-01\")\n",
    "\n",
    "\n",
    "def build_features(X, **kwargs):\n",
    "    \"\"\" \"\"\"\n",
    "    X = (\n",
    "        X.pipe(_decompose_date_ymd, date_column=kwargs[\"date_column\"])\n",
    "        .pipe(_add_day_of_week, date_column=kwargs[\"date_column\"])\n",
    "        .pipe(_add_passing_days)\n",
    "    )\n",
    "\n",
    "    return X\n",
    "\n",
    "\n",
    "# def select(X, features):\n",
    "#     \"\"\" \"\"\"\n",
    "#     X = X[features]\n",
    "#     return X\n",
    "\n",
    "\n",
    "def feature_engineering(X: pd.DataFrame) -> pd.DataFrame:\n",
    "    \"\"\"Applies the steps of feature engineering\n",
    "\n",
    "    Parameters\n",
    "    ----------\n",
    "    X : pd.DataFrame\n",
    "        Input dataframe\n",
    "\n",
    "    Returns\n",
    "    -------\n",
    "    pd.DataFrame\n",
    "        Dataframe with the built features\n",
    "    \"\"\"\n",
    "\n",
    "    variables = load_yaml(os.getenv(\"VARIABLES\"))\n",
    "\n",
    "    date_column = variables[\"date_column\"]\n",
    "\n",
    "    X = X.pipe(sanitize).pipe(build_features, date_column=date_column)\n",
    "\n",
    "    return X\n",
    "\n",
    "\n",
    "def _decompose_date_ymd(dataframe: pd.DataFrame, date_column: str):\n",
    "    \"\"\"Decomposes date column into three columns of year, month and day.\n",
    "    Parameters\n",
    "    ----------\n",
    "    dataframe : pd.DataFrame\n",
    "        Pandas dataframe containing a date column.\n",
    "    date_column : str\n",
    "        A column containing date in datetime format.\n",
    "    Returns\n",
    "    -------\n",
    "    pd.DataFrame\n",
    "        Returns the dataframe with date decomposed into three columns.\n",
    "    \"\"\"\n",
    "\n",
    "    print(date_column)\n",
    "\n",
    "    dataframe = dataframe.assign(\n",
    "        year=dataframe[date_column].dt.year,\n",
    "        month=dataframe[date_column].dt.month,\n",
    "        day=dataframe[date_column].dt.day,\n",
    "    )\n",
    "\n",
    "    return dataframe\n",
    "\n",
    "\n",
    "def _add_day_of_week(dataframe: pd.DataFrame, date_column: str):\n",
    "    \"\"\"Adds a column to a dataframe containing the day of week\n",
    "    correspondent to the date.\n",
    "    Parameters\n",
    "    ----------\n",
    "    dataframe : pd.DataFrame\n",
    "        Pandas dataframe containing a date column.\n",
    "    date_column : str\n",
    "        A column containing date in datetime format.\n",
    "    Returns\n",
    "    -------\n",
    "    pd.DataFrame\n",
    "        Returns the dataframe containing a column indicating the day of week.\n",
    "    \"\"\"\n",
    "    week_day_order = {\n",
    "        0: \"Mon\",\n",
    "        1: \"Tue\",\n",
    "        2: \"Wed\",\n",
    "        3: \"Thu\",\n",
    "        4: \"Fri\",\n",
    "        5: \"Sat\",\n",
    "        6: \"Sun\",\n",
    "    }\n",
    "\n",
    "    dataframe = dataframe.assign(\n",
    "        day_of_week=dataframe[date_column].dt.dayofweek.replace(week_day_order)\n",
    "    )\n",
    "\n",
    "    return dataframe\n",
    "\n",
    "\n",
    "def _add_passing_days(dataframe: pd.DataFrame):\n",
    "\n",
    "    passing_days = (\n",
    "        pd.to_datetime(dataframe[\"search_date\"].astype(\"M8[ms]\")) - REFERENCE_DATE\n",
    "    ).dt.days\n",
    "\n",
    "    dataframe = dataframe.assign(passing_days=passing_days)\n",
    "    return dataframe\n"
   ]
  },
  {
   "cell_type": "code",
   "execution_count": 6,
   "id": "e47de9be",
   "metadata": {},
   "outputs": [
    {
     "data": {
      "text/html": [
       "<div>\n",
       "<style scoped>\n",
       "    .dataframe tbody tr th:only-of-type {\n",
       "        vertical-align: middle;\n",
       "    }\n",
       "\n",
       "    .dataframe tbody tr th {\n",
       "        vertical-align: top;\n",
       "    }\n",
       "\n",
       "    .dataframe thead th {\n",
       "        text-align: right;\n",
       "    }\n",
       "</style>\n",
       "<table border=\"1\" class=\"dataframe\">\n",
       "  <thead>\n",
       "    <tr style=\"text-align: right;\">\n",
       "      <th></th>\n",
       "      <th>id</th>\n",
       "      <th>type</th>\n",
       "      <th>n_parking_spaces</th>\n",
       "      <th>n_bathrooms</th>\n",
       "      <th>n_bedrooms</th>\n",
       "      <th>area</th>\n",
       "      <th>n_suites</th>\n",
       "      <th>state</th>\n",
       "      <th>city</th>\n",
       "      <th>neighborhood</th>\n",
       "      <th>street</th>\n",
       "      <th>longitude</th>\n",
       "      <th>latitude</th>\n",
       "      <th>condo_fee</th>\n",
       "      <th>iptu</th>\n",
       "      <th>price</th>\n",
       "      <th>search_date</th>\n",
       "      <th>neighbor_region</th>\n",
       "      <th>neighbor_latitude</th>\n",
       "      <th>neighbor_longitude</th>\n",
       "      <th>pop_2000</th>\n",
       "      <th>pop_2010</th>\n",
       "      <th>pop_2022_proj</th>\n",
       "      <th>pct_domicilios_por_sal_min_0</th>\n",
       "      <th>pct_domicilios_por_sal_min_0_0.5</th>\n",
       "      <th>pct_domicilios_por_sal_min_0.5_1</th>\n",
       "      <th>pct_domicilios_por_sal_min_1_2</th>\n",
       "      <th>pct_domicilios_por_sal_min_2_5</th>\n",
       "      <th>pct_domicilios_por_sal_min_5_10</th>\n",
       "      <th>pct_domicilios_por_sal_min_10_20</th>\n",
       "      <th>pct_domicilios_por_sal_min_20_inf</th>\n",
       "      <th>neighbor_avg_income</th>\n",
       "      <th>taxa_alfabetizacao_bairro</th>\n",
       "    </tr>\n",
       "  </thead>\n",
       "  <tbody>\n",
       "    <tr>\n",
       "      <th>0</th>\n",
       "      <td>1</td>\n",
       "      <td>HOME</td>\n",
       "      <td>2.0</td>\n",
       "      <td>3.0</td>\n",
       "      <td>3.0</td>\n",
       "      <td>100.0</td>\n",
       "      <td>1.0</td>\n",
       "      <td>MG</td>\n",
       "      <td>Poços de Caldas</td>\n",
       "      <td>jardim_das_hortensias</td>\n",
       "      <td>None</td>\n",
       "      <td>NaN</td>\n",
       "      <td>NaN</td>\n",
       "      <td>NaN</td>\n",
       "      <td>NaN</td>\n",
       "      <td>420000.0</td>\n",
       "      <td>2021-06-04</td>\n",
       "      <td>Região Urbana Homogênea XX</td>\n",
       "      <td>-21.808408</td>\n",
       "      <td>-46.539132</td>\n",
       "      <td>527.0</td>\n",
       "      <td>2534.0</td>\n",
       "      <td>4942.0</td>\n",
       "      <td>0.001229</td>\n",
       "      <td>0.028256</td>\n",
       "      <td>0.079853</td>\n",
       "      <td>0.377150</td>\n",
       "      <td>0.321867</td>\n",
       "      <td>0.142506</td>\n",
       "      <td>0.028256</td>\n",
       "      <td>0.020885</td>\n",
       "      <td>1836.92</td>\n",
       "      <td>99.1</td>\n",
       "    </tr>\n",
       "    <tr>\n",
       "      <th>1</th>\n",
       "      <td>4</td>\n",
       "      <td>HOME</td>\n",
       "      <td>2.0</td>\n",
       "      <td>3.0</td>\n",
       "      <td>2.0</td>\n",
       "      <td>130.0</td>\n",
       "      <td>2.0</td>\n",
       "      <td>MG</td>\n",
       "      <td>Poços de Caldas</td>\n",
       "      <td>jardim_amaryllis</td>\n",
       "      <td>None</td>\n",
       "      <td>NaN</td>\n",
       "      <td>NaN</td>\n",
       "      <td>0.0</td>\n",
       "      <td>0.0</td>\n",
       "      <td>500000.0</td>\n",
       "      <td>2021-06-04</td>\n",
       "      <td>Região Urbana Homogênea XX</td>\n",
       "      <td>-21.805235</td>\n",
       "      <td>-46.541238</td>\n",
       "      <td>527.0</td>\n",
       "      <td>2534.0</td>\n",
       "      <td>4942.0</td>\n",
       "      <td>0.001229</td>\n",
       "      <td>0.028256</td>\n",
       "      <td>0.079853</td>\n",
       "      <td>0.377150</td>\n",
       "      <td>0.321867</td>\n",
       "      <td>0.142506</td>\n",
       "      <td>0.028256</td>\n",
       "      <td>0.020885</td>\n",
       "      <td>1836.92</td>\n",
       "      <td>99.1</td>\n",
       "    </tr>\n",
       "    <tr>\n",
       "      <th>2</th>\n",
       "      <td>5</td>\n",
       "      <td>HOME</td>\n",
       "      <td>2.0</td>\n",
       "      <td>1.0</td>\n",
       "      <td>3.0</td>\n",
       "      <td>147.0</td>\n",
       "      <td>2.0</td>\n",
       "      <td>MG</td>\n",
       "      <td>Poços de Caldas</td>\n",
       "      <td>residencial_morumbi</td>\n",
       "      <td>None</td>\n",
       "      <td>NaN</td>\n",
       "      <td>NaN</td>\n",
       "      <td>NaN</td>\n",
       "      <td>NaN</td>\n",
       "      <td>512959.0</td>\n",
       "      <td>2021-06-04</td>\n",
       "      <td>Região Urbana Homogênea VIII</td>\n",
       "      <td>-21.806827</td>\n",
       "      <td>-46.581132</td>\n",
       "      <td>6177.0</td>\n",
       "      <td>7009.0</td>\n",
       "      <td>8007.0</td>\n",
       "      <td>0.001668</td>\n",
       "      <td>0.050876</td>\n",
       "      <td>0.136781</td>\n",
       "      <td>0.404921</td>\n",
       "      <td>0.258966</td>\n",
       "      <td>0.109258</td>\n",
       "      <td>0.018349</td>\n",
       "      <td>0.019183</td>\n",
       "      <td>1501.74</td>\n",
       "      <td>98.2</td>\n",
       "    </tr>\n",
       "  </tbody>\n",
       "</table>\n",
       "</div>"
      ],
      "text/plain": [
       "   id  type  n_parking_spaces  n_bathrooms  n_bedrooms   area  n_suites state  \\\n",
       "0   1  HOME               2.0          3.0         3.0  100.0       1.0    MG   \n",
       "1   4  HOME               2.0          3.0         2.0  130.0       2.0    MG   \n",
       "2   5  HOME               2.0          1.0         3.0  147.0       2.0    MG   \n",
       "\n",
       "              city           neighborhood street  longitude  latitude  \\\n",
       "0  Poços de Caldas  jardim_das_hortensias   None        NaN       NaN   \n",
       "1  Poços de Caldas       jardim_amaryllis   None        NaN       NaN   \n",
       "2  Poços de Caldas    residencial_morumbi   None        NaN       NaN   \n",
       "\n",
       "   condo_fee  iptu     price search_date               neighbor_region  \\\n",
       "0        NaN   NaN  420000.0  2021-06-04    Região Urbana Homogênea XX   \n",
       "1        0.0   0.0  500000.0  2021-06-04    Região Urbana Homogênea XX   \n",
       "2        NaN   NaN  512959.0  2021-06-04  Região Urbana Homogênea VIII   \n",
       "\n",
       "   neighbor_latitude  neighbor_longitude  pop_2000  pop_2010  pop_2022_proj  \\\n",
       "0         -21.808408          -46.539132     527.0    2534.0         4942.0   \n",
       "1         -21.805235          -46.541238     527.0    2534.0         4942.0   \n",
       "2         -21.806827          -46.581132    6177.0    7009.0         8007.0   \n",
       "\n",
       "   pct_domicilios_por_sal_min_0  pct_domicilios_por_sal_min_0_0.5  \\\n",
       "0                      0.001229                          0.028256   \n",
       "1                      0.001229                          0.028256   \n",
       "2                      0.001668                          0.050876   \n",
       "\n",
       "   pct_domicilios_por_sal_min_0.5_1  pct_domicilios_por_sal_min_1_2  \\\n",
       "0                          0.079853                        0.377150   \n",
       "1                          0.079853                        0.377150   \n",
       "2                          0.136781                        0.404921   \n",
       "\n",
       "   pct_domicilios_por_sal_min_2_5  pct_domicilios_por_sal_min_5_10  \\\n",
       "0                        0.321867                         0.142506   \n",
       "1                        0.321867                         0.142506   \n",
       "2                        0.258966                         0.109258   \n",
       "\n",
       "   pct_domicilios_por_sal_min_10_20  pct_domicilios_por_sal_min_20_inf  \\\n",
       "0                          0.028256                           0.020885   \n",
       "1                          0.028256                           0.020885   \n",
       "2                          0.018349                           0.019183   \n",
       "\n",
       "   neighbor_avg_income  taxa_alfabetizacao_bairro  \n",
       "0              1836.92                       99.1  \n",
       "1              1836.92                       99.1  \n",
       "2              1501.74                       98.2  "
      ]
     },
     "execution_count": 6,
     "metadata": {},
     "output_type": "execute_result"
    }
   ],
   "source": [
    "df.head(3)"
   ]
  },
  {
   "cell_type": "code",
   "execution_count": 21,
   "id": "30b5c138",
   "metadata": {},
   "outputs": [],
   "source": [
    "\n",
    "# # Import neighbor region information\n",
    "# df_neighbor = pd.read_csv(filepaths[\"data_external_neighbor_path\"])\n",
    "# df_neighbor = df_neighbor.loc[~df_neighbor[\"neighborhood\"].duplicated()]\n",
    "# data = data.merge(df_neighbor, on=\"neighborhood\", how=\"left\")"
   ]
  },
  {
   "cell_type": "code",
   "execution_count": 22,
   "id": "772506af",
   "metadata": {},
   "outputs": [
    {
     "data": {
      "text/html": [
       "<div>\n",
       "<style scoped>\n",
       "    .dataframe tbody tr th:only-of-type {\n",
       "        vertical-align: middle;\n",
       "    }\n",
       "\n",
       "    .dataframe tbody tr th {\n",
       "        vertical-align: top;\n",
       "    }\n",
       "\n",
       "    .dataframe thead th {\n",
       "        text-align: right;\n",
       "    }\n",
       "</style>\n",
       "<table border=\"1\" class=\"dataframe\">\n",
       "  <thead>\n",
       "    <tr style=\"text-align: right;\">\n",
       "      <th></th>\n",
       "      <th>neighborhood</th>\n",
       "      <th>neighbor_region</th>\n",
       "      <th>neighbor_latitude</th>\n",
       "      <th>neighbor_longitude</th>\n",
       "    </tr>\n",
       "  </thead>\n",
       "  <tbody>\n",
       "    <tr>\n",
       "      <th>0</th>\n",
       "      <td>vila_olimpica</td>\n",
       "      <td>Região Urbana Homogênea II</td>\n",
       "      <td>-21.778126</td>\n",
       "      <td>-46.606598</td>\n",
       "    </tr>\n",
       "    <tr>\n",
       "      <th>1</th>\n",
       "      <td>residencial_sao_bernardo</td>\n",
       "      <td>Região Urbana Homogênea III</td>\n",
       "      <td>-21.789598</td>\n",
       "      <td>-46.593153</td>\n",
       "    </tr>\n",
       "    <tr>\n",
       "      <th>2</th>\n",
       "      <td>residencial_mantiqueira</td>\n",
       "      <td>Região Urbana Homogênea III</td>\n",
       "      <td>-21.786012</td>\n",
       "      <td>-46.600012</td>\n",
       "    </tr>\n",
       "    <tr>\n",
       "      <th>3</th>\n",
       "      <td>santa_margarida</td>\n",
       "      <td>Região Urbana Homogênea III</td>\n",
       "      <td>-21.784490</td>\n",
       "      <td>-46.598762</td>\n",
       "    </tr>\n",
       "    <tr>\n",
       "      <th>4</th>\n",
       "      <td>bianucci</td>\n",
       "      <td>Região Urbana Homogênea III</td>\n",
       "      <td>-21.793875</td>\n",
       "      <td>-46.595109</td>\n",
       "    </tr>\n",
       "    <tr>\n",
       "      <th>...</th>\n",
       "      <td>...</td>\n",
       "      <td>...</td>\n",
       "      <td>...</td>\n",
       "      <td>...</td>\n",
       "    </tr>\n",
       "    <tr>\n",
       "      <th>180</th>\n",
       "      <td>vila_rabelo</td>\n",
       "      <td>Região Urbana Homogênea I</td>\n",
       "      <td>-21.789867</td>\n",
       "      <td>-46.640600</td>\n",
       "    </tr>\n",
       "    <tr>\n",
       "      <th>181</th>\n",
       "      <td>jardim_elizabete</td>\n",
       "      <td>Região Urbana Homogênea IV</td>\n",
       "      <td>-21.781738</td>\n",
       "      <td>-46.601213</td>\n",
       "    </tr>\n",
       "    <tr>\n",
       "      <th>182</th>\n",
       "      <td>cristiano_ozorio</td>\n",
       "      <td>Região Urbana Homogênea XIV</td>\n",
       "      <td>-21.783419</td>\n",
       "      <td>-46.562454</td>\n",
       "    </tr>\n",
       "    <tr>\n",
       "      <th>183</th>\n",
       "      <td>jardins_de_florenca</td>\n",
       "      <td>Região Urbana Homogênea VI</td>\n",
       "      <td>-21.809524</td>\n",
       "      <td>-46.586437</td>\n",
       "    </tr>\n",
       "    <tr>\n",
       "      <th>184</th>\n",
       "      <td>residencial_colinas_do_sul</td>\n",
       "      <td>Região Urbana Homogênea XX</td>\n",
       "      <td>-21.805389</td>\n",
       "      <td>-46.541841</td>\n",
       "    </tr>\n",
       "  </tbody>\n",
       "</table>\n",
       "<p>185 rows × 4 columns</p>\n",
       "</div>"
      ],
      "text/plain": [
       "                   neighborhood              neighbor_region  \\\n",
       "0                 vila_olimpica   Região Urbana Homogênea II   \n",
       "1      residencial_sao_bernardo  Região Urbana Homogênea III   \n",
       "2       residencial_mantiqueira  Região Urbana Homogênea III   \n",
       "3               santa_margarida  Região Urbana Homogênea III   \n",
       "4                      bianucci  Região Urbana Homogênea III   \n",
       "..                          ...                          ...   \n",
       "180                 vila_rabelo    Região Urbana Homogênea I   \n",
       "181            jardim_elizabete   Região Urbana Homogênea IV   \n",
       "182            cristiano_ozorio  Região Urbana Homogênea XIV   \n",
       "183         jardins_de_florenca   Região Urbana Homogênea VI   \n",
       "184  residencial_colinas_do_sul   Região Urbana Homogênea XX   \n",
       "\n",
       "     neighbor_latitude  neighbor_longitude  \n",
       "0           -21.778126          -46.606598  \n",
       "1           -21.789598          -46.593153  \n",
       "2           -21.786012          -46.600012  \n",
       "3           -21.784490          -46.598762  \n",
       "4           -21.793875          -46.595109  \n",
       "..                 ...                 ...  \n",
       "180         -21.789867          -46.640600  \n",
       "181         -21.781738          -46.601213  \n",
       "182         -21.783419          -46.562454  \n",
       "183         -21.809524          -46.586437  \n",
       "184         -21.805389          -46.541841  \n",
       "\n",
       "[185 rows x 4 columns]"
      ]
     },
     "execution_count": 22,
     "metadata": {},
     "output_type": "execute_result"
    }
   ],
   "source": [
    "df_neighbor"
   ]
  },
  {
   "cell_type": "code",
   "execution_count": 13,
   "id": "ba5a8975",
   "metadata": {},
   "outputs": [],
   "source": []
  },
  {
   "cell_type": "code",
   "execution_count": 14,
   "id": "1d4995ff",
   "metadata": {},
   "outputs": [
    {
     "data": {
      "image/png": "[encoded data removed]",
      "text/plain": [
       "<Figure size 576x338.4 with 2 Axes>"
      ]
     },
     "metadata": {
      "needs_background": "light"
     },
     "output_type": "display_data"
    }
   ],
   "source": []
  },
  {
   "cell_type": "code",
   "execution_count": 28,
   "id": "c5c67f87",
   "metadata": {},
   "outputs": [
    {
     "data": {
      "text/html": [
       "<div>\n",
       "<style scoped>\n",
       "    .dataframe tbody tr th:only-of-type {\n",
       "        vertical-align: middle;\n",
       "    }\n",
       "\n",
       "    .dataframe tbody tr th {\n",
       "        vertical-align: top;\n",
       "    }\n",
       "\n",
       "    .dataframe thead th {\n",
       "        text-align: right;\n",
       "    }\n",
       "</style>\n",
       "<table border=\"1\" class=\"dataframe\">\n",
       "  <thead>\n",
       "    <tr style=\"text-align: right;\">\n",
       "      <th></th>\n",
       "      <th>features</th>\n",
       "      <th>importances</th>\n",
       "    </tr>\n",
       "  </thead>\n",
       "  <tbody>\n",
       "    <tr>\n",
       "      <th>0</th>\n",
       "      <td>n_parking_spaces</td>\n",
       "      <td>0.021689</td>\n",
       "    </tr>\n",
       "    <tr>\n",
       "      <th>1</th>\n",
       "      <td>n_bathrooms</td>\n",
       "      <td>0.017895</td>\n",
       "    </tr>\n",
       "    <tr>\n",
       "      <th>2</th>\n",
       "      <td>n_bedrooms</td>\n",
       "      <td>0.017591</td>\n",
       "    </tr>\n",
       "    <tr>\n",
       "      <th>3</th>\n",
       "      <td>area</td>\n",
       "      <td>0.566073</td>\n",
       "    </tr>\n",
       "    <tr>\n",
       "      <th>4</th>\n",
       "      <td>n_suites</td>\n",
       "      <td>0.085599</td>\n",
       "    </tr>\n",
       "    <tr>\n",
       "      <th>5</th>\n",
       "      <td>neighborhood</td>\n",
       "      <td>0.231211</td>\n",
       "    </tr>\n",
       "    <tr>\n",
       "      <th>6</th>\n",
       "      <td>street</td>\n",
       "      <td>0.043218</td>\n",
       "    </tr>\n",
       "    <tr>\n",
       "      <th>7</th>\n",
       "      <td>longitude</td>\n",
       "      <td>0.016724</td>\n",
       "    </tr>\n",
       "  </tbody>\n",
       "</table>\n",
       "</div>"
      ],
      "text/plain": [
       "           features  importances\n",
       "0  n_parking_spaces     0.021689\n",
       "1       n_bathrooms     0.017895\n",
       "2        n_bedrooms     0.017591\n",
       "3              area     0.566073\n",
       "4          n_suites     0.085599\n",
       "5      neighborhood     0.231211\n",
       "6            street     0.043218\n",
       "7         longitude     0.016724"
      ]
     },
     "execution_count": 28,
     "metadata": {},
     "output_type": "execute_result"
    }
   ],
   "source": [
    "pd.DataFrame(\n",
    "    {\n",
    "        'features': X_train_transf.columns,\n",
    "        'importances': estimator.feature_importances_,\n",
    "    }\n",
    ")\n"
   ]
  },
  {
   "cell_type": "code",
   "execution_count": null,
   "id": "c2bab5bc",
   "metadata": {},
   "outputs": [],
   "source": [
    "from sklearn.feature_selection import SelectKBest\n",
    "\n",
    "SelectKBest(score_func=<function f_classif>, *, k=10)"
   ]
  },
  {
   "cell_type": "code",
   "execution_count": 25,
   "id": "acad8d91",
   "metadata": {},
   "outputs": [
    {
     "data": {
      "text/html": [
       "<div>\n",
       "<style scoped>\n",
       "    .dataframe tbody tr th:only-of-type {\n",
       "        vertical-align: middle;\n",
       "    }\n",
       "\n",
       "    .dataframe tbody tr th {\n",
       "        vertical-align: top;\n",
       "    }\n",
       "\n",
       "    .dataframe thead th {\n",
       "        text-align: right;\n",
       "    }\n",
       "</style>\n",
       "<table border=\"1\" class=\"dataframe\">\n",
       "  <thead>\n",
       "    <tr style=\"text-align: right;\">\n",
       "      <th></th>\n",
       "      <th>features</th>\n",
       "      <th>mi</th>\n",
       "    </tr>\n",
       "  </thead>\n",
       "  <tbody>\n",
       "    <tr>\n",
       "      <th>0</th>\n",
       "      <td>n_parking_spaces</td>\n",
       "      <td>0.509658</td>\n",
       "    </tr>\n",
       "    <tr>\n",
       "      <th>1</th>\n",
       "      <td>n_bathrooms</td>\n",
       "      <td>0.453399</td>\n",
       "    </tr>\n",
       "    <tr>\n",
       "      <th>2</th>\n",
       "      <td>n_bedrooms</td>\n",
       "      <td>0.465193</td>\n",
       "    </tr>\n",
       "    <tr>\n",
       "      <th>3</th>\n",
       "      <td>area</td>\n",
       "      <td>2.712398</td>\n",
       "    </tr>\n",
       "    <tr>\n",
       "      <th>4</th>\n",
       "      <td>n_suites</td>\n",
       "      <td>0.386809</td>\n",
       "    </tr>\n",
       "    <tr>\n",
       "      <th>5</th>\n",
       "      <td>neighborhood</td>\n",
       "      <td>2.108762</td>\n",
       "    </tr>\n",
       "    <tr>\n",
       "      <th>6</th>\n",
       "      <td>street</td>\n",
       "      <td>0.422054</td>\n",
       "    </tr>\n",
       "    <tr>\n",
       "      <th>7</th>\n",
       "      <td>longitude</td>\n",
       "      <td>1.854372</td>\n",
       "    </tr>\n",
       "  </tbody>\n",
       "</table>\n",
       "</div>"
      ],
      "text/plain": [
       "           features        mi\n",
       "0  n_parking_spaces  0.509658\n",
       "1       n_bathrooms  0.453399\n",
       "2        n_bedrooms  0.465193\n",
       "3              area  2.712398\n",
       "4          n_suites  0.386809\n",
       "5      neighborhood  2.108762\n",
       "6            street  0.422054\n",
       "7         longitude  1.854372"
      ]
     },
     "execution_count": 25,
     "metadata": {},
     "output_type": "execute_result"
    }
   ],
   "source": [
    "from sklearn.feature_selection import mutual_info_regression\n",
    "\n",
    "pd.DataFrame(\n",
    "    {\n",
    "        'features': X_train_transf.columns,\n",
    "        'mi': mutual_info_regression(X_train_transf, y_train),\n",
    "    }\n",
    ")"
   ]
  },
  {
   "cell_type": "code",
   "execution_count": 21,
   "id": "7c719a14",
   "metadata": {},
   "outputs": [
    {
     "data": {
      "image/png": "[encoded data removed]",
      "text/plain": [
       "<Figure size 1080x360 with 3 Axes>"
      ]
     },
     "metadata": {
      "needs_background": "light"
     },
     "output_type": "display_data"
    }
   ],
   "source": [
    "import numpy as np\n",
    "import matplotlib.pyplot as plt\n",
    "from sklearn.feature_selection import f_regression, mutual_info_regression\n",
    "\n",
    "np.random.seed(0)\n",
    "X = np.random.rand(1000, 3)\n",
    "y = X[:, 0] + np.sin(6 * np.pi * X[:, 1]) + 0.1 * np.random.randn(1000)\n",
    "\n",
    "f_test, _ = f_regression(X, y)\n",
    "f_test /= np.max(f_test)\n",
    "\n",
    "mi = mutual_info_regression(X, y)\n",
    "mi /= np.max(mi)\n",
    "\n",
    "plt.figure(figsize=(15, 5))\n",
    "for i in range(3):\n",
    "    plt.subplot(1, 3, i + 1)\n",
    "    plt.scatter(X[:, i], y, edgecolor=\"black\", s=20)\n",
    "    plt.xlabel(\"$x_{}$\".format(i + 1), fontsize=14)\n",
    "    if i == 0:\n",
    "        plt.ylabel(\"$y$\", fontsize=14)\n",
    "    plt.title(\"F-test={:.2f}, MI={:.2f}\".format(f_test[i], mi[i]), fontsize=16)"
   ]
  },
  {
   "cell_type": "code",
   "execution_count": 23,
   "id": "ec473604",
   "metadata": {},
   "outputs": [
    {
     "data": {
      "text/plain": [
       "array([1.        , 0.28024353, 0.00252204])"
      ]
     },
     "execution_count": 23,
     "metadata": {},
     "output_type": "execute_result"
    }
   ],
   "source": [
    "f_test"
   ]
  },
  {
   "cell_type": "code",
   "execution_count": 22,
   "id": "35c9c4bd",
   "metadata": {},
   "outputs": [
    {
     "data": {
      "text/plain": [
       "array([0.36448455, 1.        , 0.        ])"
      ]
     },
     "execution_count": 22,
     "metadata": {},
     "output_type": "execute_result"
    }
   ],
   "source": [
    "mi"
   ]
  },
  {
   "cell_type": "code",
   "execution_count": null,
   "id": "e2b4cbf0",
   "metadata": {},
   "outputs": [],
   "source": [
    "def score_function(X, y):\n",
    "\n",
    "    return "
   ]
  },
  {
   "cell_type": "code",
   "execution_count": 13,
   "id": "a361dfac",
   "metadata": {},
   "outputs": [
    {
     "data": {
      "text/plain": [
       "<AxesSubplot:>"
      ]
     },
     "execution_count": 13,
     "metadata": {},
     "output_type": "execute_result"
    },
    {
     "data": {
      "image/png": "[encoded data removed]",
      "text/plain": [
       "<Figure size 432x288 with 1 Axes>"
      ]
     },
     "metadata": {
      "needs_background": "light"
     },
     "output_type": "display_data"
    }
   ],
   "source": [
    "X_test_transf['longitude'].hist()"
   ]
  },
  {
   "cell_type": "code",
   "execution_count": 12,
   "id": "c52f3a1c",
   "metadata": {},
   "outputs": [],
   "source": [
    "from sklearn.metrics import mean_absolute_error, mean_squared_error"
   ]
  },
  {
   "cell_type": "code",
   "execution_count": 5,
   "id": "48fca511",
   "metadata": {},
   "outputs": [
    {
     "data": {
      "text/plain": [
       "'RandomForestRegressor'"
      ]
     },
     "execution_count": 5,
     "metadata": {},
     "output_type": "execute_result"
    }
   ],
   "source": [
    "estimator_name = variables[\"estimator\"]\n",
    "\n",
    "model_artifacts = {\n",
    "    \"model\": variables[\"estimator\"],\n",
    "    \"metric\": {\n",
    "        \"name\": tunner.search_scoring,\n",
    "        \"value\": tunner.best_score_,\n",
    "    },\n",
    "    \"hyper_params\": tunner.best_params_\n",
    "}\n",
    "\n",
    "\n",
    "estimator_name"
   ]
  },
  {
   "cell_type": "code",
   "execution_count": 8,
   "id": "7fffa5a5",
   "metadata": {},
   "outputs": [
    {
     "name": "stdout",
     "output_type": "stream",
     "text": [
      "config\n",
      "data\n",
      "docs\n",
      "environment.yml\n",
      "logs\n",
      "models\n",
      "notebooks\n",
      "README.md\n",
      "references\n",
      "reports\n",
      "requirements.txt\n",
      "src\n"
     ]
    }
   ],
   "source": [
    "%%bash\n",
    "ls"
   ]
  },
  {
   "cell_type": "code",
   "execution_count": 6,
   "id": "a9f849ad",
   "metadata": {},
   "outputs": [
    {
     "data": {
      "text/plain": [
       "[{'version': 0,\n",
       "  'subversion': 0,\n",
       "  'identifier': 2,\n",
       "  'estimator': 'RandomForestRegressor',\n",
       "  'metric_name': 'neg_mean_squared_error',\n",
       "  'metric_score': -5217793788.150981}]"
      ]
     },
     "execution_count": 6,
     "metadata": {},
     "output_type": "execute_result"
    }
   ],
   "source": [
    "# def update_metadata_store(tunner):\n",
    "\n",
    "#     filepaths = load_yaml(os.getenv(\"FILEPATHS\"))\n",
    "\n",
    "#     variables = load_yaml(os.getenv(\"VARIABLES\"))\n",
    "\n",
    "\n",
    "#     metadata_filepath = os.path.join(\n",
    "#         filepaths['model_artifacts_path'],\n",
    "#         variables['metadata_store_filename'],\n",
    "#     )\n",
    "\n",
    "#     if os.path.exists(metadata_filepath):\n",
    "#         metadata_store = pd.read_json(metadata_filepath)\n",
    "#         last_model = metadata_store.iloc[-1].to_dict()\n",
    "#         version = last_model['version']\n",
    "#         subversion = last_model['subversion']\n",
    "#         identifier = last_model['identifier'] + 1\n",
    "#     else:\n",
    "#         metadata_store = pd.DataFrame()\n",
    "#         version = 0\n",
    "#         subversion = 0\n",
    "#         identifier = 1\n",
    "\n",
    "#     model_metadata = [\n",
    "#         {\n",
    "#             'version': version,\n",
    "#             'subversion': subversion,\n",
    "#             'identifier': identifier + 1,\n",
    "#             'estimator': variables[\"estimator\"],\n",
    "#             'metric_name': tunner.search_scoring,\n",
    "#             'metric_score': tunner.best_score_,\n",
    "#         }\n",
    "#     ]\n",
    "\n",
    "#     updated_model_metadata = pd.concat(\n",
    "#         [\n",
    "#             metadata_store,\n",
    "#             pd.DataFrame(model_metadata),\n",
    "#         ]\n",
    "#     ).reset_index(drop=True)\n",
    "\n",
    "\n",
    "#     dump_json(\n",
    "#         updated_model_metadata.to_dict(orient='records'),\n",
    "#         'models/metadata_store_2.json',\n",
    "#         indent=2,\n",
    "#     )"
   ]
  },
  {
   "cell_type": "code",
   "execution_count": 16,
   "id": "80fb888c",
   "metadata": {},
   "outputs": [
    {
     "data": {
      "text/plain": [
       "'models/metadata_store.json'"
      ]
     },
     "execution_count": 16,
     "metadata": {},
     "output_type": "execute_result"
    }
   ],
   "source": [
    "\n",
    "\n",
    "# updated_metadata.to_json('models/metadata_store_2.json')\n"
   ]
  },
  {
   "cell_type": "code",
   "execution_count": null,
   "id": "b2d7ba8f",
   "metadata": {},
   "outputs": [],
   "source": []
  },
  {
   "cell_type": "code",
   "execution_count": 53,
   "id": "6bd6a204",
   "metadata": {},
   "outputs": [
    {
     "data": {
      "text/html": [
       "<div>\n",
       "<style scoped>\n",
       "    .dataframe tbody tr th:only-of-type {\n",
       "        vertical-align: middle;\n",
       "    }\n",
       "\n",
       "    .dataframe tbody tr th {\n",
       "        vertical-align: top;\n",
       "    }\n",
       "\n",
       "    .dataframe thead th {\n",
       "        text-align: right;\n",
       "    }\n",
       "</style>\n",
       "<table border=\"1\" class=\"dataframe\">\n",
       "  <thead>\n",
       "    <tr style=\"text-align: right;\">\n",
       "      <th></th>\n",
       "      <th>version</th>\n",
       "      <th>subversion</th>\n",
       "      <th>identifier</th>\n",
       "      <th>estimator</th>\n",
       "      <th>metric_name</th>\n",
       "      <th>metric_score</th>\n",
       "    </tr>\n",
       "  </thead>\n",
       "  <tbody>\n",
       "    <tr>\n",
       "      <th>0</th>\n",
       "      <td>0</td>\n",
       "      <td>0</td>\n",
       "      <td>0</td>\n",
       "      <td>RandomForestRegressor</td>\n",
       "      <td>neg_mean_squared_error</td>\n",
       "      <td>-5.194679e+09</td>\n",
       "    </tr>\n",
       "    <tr>\n",
       "      <th>1</th>\n",
       "      <td>0</td>\n",
       "      <td>0</td>\n",
       "      <td>2</td>\n",
       "      <td>RandomForestRegressor</td>\n",
       "      <td>neg_mean_squared_error</td>\n",
       "      <td>-5.194679e+09</td>\n",
       "    </tr>\n",
       "  </tbody>\n",
       "</table>\n",
       "</div>"
      ],
      "text/plain": [
       "   version  subversion  identifier              estimator  \\\n",
       "0        0           0           0  RandomForestRegressor   \n",
       "1        0           0           2  RandomForestRegressor   \n",
       "\n",
       "              metric_name  metric_score  \n",
       "0  neg_mean_squared_error -5.194679e+09  \n",
       "1  neg_mean_squared_error -5.194679e+09  "
      ]
     },
     "execution_count": 53,
     "metadata": {},
     "output_type": "execute_result"
    }
   ],
   "source": [
    "updated_metadata.reset_index(drop=True)"
   ]
  },
  {
   "cell_type": "code",
   "execution_count": 6,
   "id": "b4a5c22a",
   "metadata": {},
   "outputs": [
    {
     "data": {
      "text/plain": [
       "RandomForestRegressor(max_depth=21, n_estimators=95, random_state=42)"
      ]
     },
     "execution_count": 6,
     "metadata": {},
     "output_type": "execute_result"
    }
   ],
   "source": [
    "tunner.best_estimator_"
   ]
  },
  {
   "cell_type": "code",
   "execution_count": 12,
   "id": "608e358e",
   "metadata": {},
   "outputs": [
    {
     "data": {
      "text/plain": [
       "'RandomizedSearch'"
      ]
     },
     "execution_count": 12,
     "metadata": {},
     "output_type": "execute_result"
    }
   ],
   "source": [
    "tunner.search_strategy"
   ]
  },
  {
   "cell_type": "markdown",
   "id": "66513a63",
   "metadata": {},
   "source": [
    "## Estudo de features"
   ]
  },
  {
   "cell_type": "code",
   "execution_count": 5,
   "id": "2b9d81ed",
   "metadata": {},
   "outputs": [
    {
     "name": "stderr",
     "output_type": "stream",
     "text": [
      "2022-08-05 23:38:19,400 [INFO] cv_mae_score = 18654 ± 903\n",
      "2022-08-05 23:38:21,302 [INFO] MAE (train) = 8369.385\n",
      "2022-08-05 23:38:21,394 [INFO] MAE (test) = 18265.590\n",
      "2022-08-05 23:38:21,602 [INFO] R2 (train) = 0.998\n",
      "2022-08-05 23:38:21,689 [INFO] R2 (test) = 0.986\n"
     ]
    }
   ],
   "source": [
    "supervised_test_rf(X_train_transf, X_test_transf, y_train, y_test)"
   ]
  },
  {
   "cell_type": "code",
   "execution_count": 14,
   "id": "5fb73e7b",
   "metadata": {},
   "outputs": [
    {
     "name": "stderr",
     "output_type": "stream",
     "text": [
      "2022-08-05 23:43:14,635 [INFO] cv_mae_score = 77338 ± 2569\n",
      "2022-08-05 23:43:14,791 [INFO] MAE (train) = 69745.199\n",
      "2022-08-05 23:43:14,827 [INFO] MAE (test) = 77487.170\n",
      "2022-08-05 23:43:14,880 [INFO] R2 (train) = 0.968\n",
      "2022-08-05 23:43:14,902 [INFO] R2 (test) = 0.958\n"
     ]
    }
   ],
   "source": [
    "supervised_test_lgmb(X_train_transf, X_test_transf, y_train, y_test)"
   ]
  },
  {
   "cell_type": "code",
   "execution_count": 13,
   "id": "c2331371",
   "metadata": {},
   "outputs": [],
   "source": [
    "from lightgbm import LGBMRegressor\n",
    "from sklearn.compose import TransformedTargetRegressor\n",
    "from sklearn.model_selection import cross_validate\n",
    "from sklearn.metrics import mean_squared_error, mean_absolute_error, r2_score\n",
    "\n",
    "def supervised_test_lgmb(X_train, X_test, y_train, y_test, random_state=42):\n",
    "\n",
    "    regressor = TransformedTargetRegressor(\n",
    "        regressor=LGBMRegressor(random_state=random_state),\n",
    "        func=lambda x: x,\n",
    "        inverse_func=lambda x: x,\n",
    "    )\n",
    "\n",
    "    cv_results = cross_validate(\n",
    "        regressor, X_train, y_train, cv=5, scoring=\"neg_mean_absolute_error\"\n",
    "    )\n",
    "\n",
    "    cv_scores = -np.array(cv_results[\"test_score\"])\n",
    "\n",
    "    logging.info(\n",
    "        \"cv_mae_score = {:.0f} ± {:.0f}\".format(np.mean(cv_scores), np.std(cv_scores))\n",
    "    )\n",
    "\n",
    "    regressor.fit(X_train, y_train)\n",
    "\n",
    "    logging.info(\n",
    "        \"MAE (train) = {:.3f}\".format(\n",
    "            mean_absolute_error(y_train, regressor.predict(X_train))\n",
    "        )\n",
    "    )\n",
    "    logging.info(\n",
    "        \"MAE (test) = {:.3f}\".format(\n",
    "            mean_absolute_error(y_test, regressor.predict(X_test))\n",
    "        )\n",
    "    )\n",
    "    logging.info(\n",
    "        \"R2 (train) = {:.3f}\".format(r2_score(y_train, regressor.predict(X_train)))\n",
    "    )\n",
    "    logging.info(\n",
    "        \"R2 (test) = {:.3f}\".format(r2_score(y_test, regressor.predict(X_test)))\n",
    "    )\n"
   ]
  },
  {
   "cell_type": "code",
   "execution_count": 28,
   "id": "fc1f1d04",
   "metadata": {},
   "outputs": [
    {
     "data": {
      "image/png": "[encoded data removed]",
      "text/plain": [
       "<Figure size 432x288 with 1 Axes>"
      ]
     },
     "metadata": {
      "needs_background": "light"
     },
     "output_type": "display_data"
    },
    {
     "name": "stderr",
     "output_type": "stream",
     "text": [
      "2022-08-04 23:42:26,833 [INFO] quantiles = \n",
      "   quantiles  year\n",
      "0       0.00   0.0\n",
      "1       0.50   1.0\n",
      "2       0.95   1.0\n",
      "3       0.99   1.0\n",
      "2022-08-04 23:42:26,836 [INFO] skewness =  -1.690\n",
      "2022-08-04 23:42:26,838 [INFO] kurtosis = 0.870\n",
      "2022-08-04 23:42:26,840 [INFO] target corr. = 0.038\n",
      "2022-08-04 23:42:27,694 [INFO] cv_mae_score = 418773 ± 4406\n",
      "2022-08-04 23:42:27,905 [INFO] MAE (train) = 418759.798\n",
      "2022-08-04 23:42:27,928 [INFO] MAE (test) = 429105.995\n",
      "2022-08-04 23:42:27,971 [INFO] R2 (train) = 0.001\n",
      "2022-08-04 23:42:27,986 [INFO] R2 (test) = 0.003\n"
     ]
    }
   ],
   "source": [
    "column_name = 'year'\n",
    "\n",
    "column = X_train_transf[column_name]\n",
    "column.hist()\n",
    "plt.show()\n",
    "logging.info(\"quantiles = \\n\" + str((column.quantile([0,0.5,0.95,0.99]).to_frame().reset_index()).rename(columns = {'index': 'quantiles'})))\n",
    "logging.info(\"skewness =  {:.3f}\".format(column.skew().round(2)))\n",
    "logging.info(\"kurtosis = {:.3f}\" .format(column.kurtosis().round(2)))\n",
    "\n",
    "logging.info(\"target corr. = {:.3f}\" .format(np.corrcoef(column, y_train)[0][1]))\n",
    "supervised_test_rf(X_train_transf[[column_name]], X_test_transf[[column_name]], y_train, y_test)\n"
   ]
  },
  {
   "cell_type": "code",
   "execution_count": 5,
   "id": "c269bc78",
   "metadata": {},
   "outputs": [
    {
     "ename": "KeyError",
     "evalue": "'latitude'",
     "output_type": "error",
     "traceback": [
      "\u001b[0;31m---------------------------------------------------------------------------\u001b[0m",
      "\u001b[0;31mKeyError\u001b[0m                                  Traceback (most recent call last)",
      "\u001b[0;32m~/.local/lib/python3.6/site-packages/pandas/core/indexes/base.py\u001b[0m in \u001b[0;36mget_loc\u001b[0;34m(self, key, method, tolerance)\u001b[0m\n\u001b[1;32m   2897\u001b[0m             \u001b[0;32mtry\u001b[0m\u001b[0;34m:\u001b[0m\u001b[0;34m\u001b[0m\u001b[0;34m\u001b[0m\u001b[0m\n\u001b[0;32m-> 2898\u001b[0;31m                 \u001b[0;32mreturn\u001b[0m \u001b[0mself\u001b[0m\u001b[0;34m.\u001b[0m\u001b[0m_engine\u001b[0m\u001b[0;34m.\u001b[0m\u001b[0mget_loc\u001b[0m\u001b[0;34m(\u001b[0m\u001b[0mcasted_key\u001b[0m\u001b[0;34m)\u001b[0m\u001b[0;34m\u001b[0m\u001b[0;34m\u001b[0m\u001b[0m\n\u001b[0m\u001b[1;32m   2899\u001b[0m             \u001b[0;32mexcept\u001b[0m \u001b[0mKeyError\u001b[0m \u001b[0;32mas\u001b[0m \u001b[0merr\u001b[0m\u001b[0;34m:\u001b[0m\u001b[0;34m\u001b[0m\u001b[0;34m\u001b[0m\u001b[0m\n",
      "\u001b[0;32mpandas/_libs/index.pyx\u001b[0m in \u001b[0;36mpandas._libs.index.IndexEngine.get_loc\u001b[0;34m()\u001b[0m\n",
      "\u001b[0;32mpandas/_libs/index.pyx\u001b[0m in \u001b[0;36mpandas._libs.index.IndexEngine.get_loc\u001b[0;34m()\u001b[0m\n",
      "\u001b[0;32mpandas/_libs/hashtable_class_helper.pxi\u001b[0m in \u001b[0;36mpandas._libs.hashtable.PyObjectHashTable.get_item\u001b[0;34m()\u001b[0m\n",
      "\u001b[0;32mpandas/_libs/hashtable_class_helper.pxi\u001b[0m in \u001b[0;36mpandas._libs.hashtable.PyObjectHashTable.get_item\u001b[0;34m()\u001b[0m\n",
      "\u001b[0;31mKeyError\u001b[0m: 'latitude'",
      "\nThe above exception was the direct cause of the following exception:\n",
      "\u001b[0;31mKeyError\u001b[0m                                  Traceback (most recent call last)",
      "\u001b[0;32m<ipython-input-5-9e806d3938e8>\u001b[0m in \u001b[0;36m<module>\u001b[0;34m\u001b[0m\n\u001b[1;32m      1\u001b[0m \u001b[0mcolumn_name\u001b[0m \u001b[0;34m=\u001b[0m \u001b[0;34m'latitude'\u001b[0m\u001b[0;34m\u001b[0m\u001b[0;34m\u001b[0m\u001b[0m\n\u001b[1;32m      2\u001b[0m \u001b[0;34m\u001b[0m\u001b[0m\n\u001b[0;32m----> 3\u001b[0;31m \u001b[0mcolumn\u001b[0m \u001b[0;34m=\u001b[0m \u001b[0mX_train_transf\u001b[0m\u001b[0;34m[\u001b[0m\u001b[0mcolumn_name\u001b[0m\u001b[0;34m]\u001b[0m\u001b[0;34m\u001b[0m\u001b[0;34m\u001b[0m\u001b[0m\n\u001b[0m\u001b[1;32m      4\u001b[0m \u001b[0mcolumn\u001b[0m\u001b[0;34m.\u001b[0m\u001b[0mhist\u001b[0m\u001b[0;34m(\u001b[0m\u001b[0;34m)\u001b[0m\u001b[0;34m\u001b[0m\u001b[0;34m\u001b[0m\u001b[0m\n\u001b[1;32m      5\u001b[0m \u001b[0mplt\u001b[0m\u001b[0;34m.\u001b[0m\u001b[0mshow\u001b[0m\u001b[0;34m(\u001b[0m\u001b[0;34m)\u001b[0m\u001b[0;34m\u001b[0m\u001b[0;34m\u001b[0m\u001b[0m\n",
      "\u001b[0;32m~/.local/lib/python3.6/site-packages/pandas/core/frame.py\u001b[0m in \u001b[0;36m__getitem__\u001b[0;34m(self, key)\u001b[0m\n\u001b[1;32m   2904\u001b[0m             \u001b[0;32mif\u001b[0m \u001b[0mself\u001b[0m\u001b[0;34m.\u001b[0m\u001b[0mcolumns\u001b[0m\u001b[0;34m.\u001b[0m\u001b[0mnlevels\u001b[0m \u001b[0;34m>\u001b[0m \u001b[0;36m1\u001b[0m\u001b[0;34m:\u001b[0m\u001b[0;34m\u001b[0m\u001b[0;34m\u001b[0m\u001b[0m\n\u001b[1;32m   2905\u001b[0m                 \u001b[0;32mreturn\u001b[0m \u001b[0mself\u001b[0m\u001b[0;34m.\u001b[0m\u001b[0m_getitem_multilevel\u001b[0m\u001b[0;34m(\u001b[0m\u001b[0mkey\u001b[0m\u001b[0;34m)\u001b[0m\u001b[0;34m\u001b[0m\u001b[0;34m\u001b[0m\u001b[0m\n\u001b[0;32m-> 2906\u001b[0;31m             \u001b[0mindexer\u001b[0m \u001b[0;34m=\u001b[0m \u001b[0mself\u001b[0m\u001b[0;34m.\u001b[0m\u001b[0mcolumns\u001b[0m\u001b[0;34m.\u001b[0m\u001b[0mget_loc\u001b[0m\u001b[0;34m(\u001b[0m\u001b[0mkey\u001b[0m\u001b[0;34m)\u001b[0m\u001b[0;34m\u001b[0m\u001b[0;34m\u001b[0m\u001b[0m\n\u001b[0m\u001b[1;32m   2907\u001b[0m             \u001b[0;32mif\u001b[0m \u001b[0mis_integer\u001b[0m\u001b[0;34m(\u001b[0m\u001b[0mindexer\u001b[0m\u001b[0;34m)\u001b[0m\u001b[0;34m:\u001b[0m\u001b[0;34m\u001b[0m\u001b[0;34m\u001b[0m\u001b[0m\n\u001b[1;32m   2908\u001b[0m                 \u001b[0mindexer\u001b[0m \u001b[0;34m=\u001b[0m \u001b[0;34m[\u001b[0m\u001b[0mindexer\u001b[0m\u001b[0;34m]\u001b[0m\u001b[0;34m\u001b[0m\u001b[0;34m\u001b[0m\u001b[0m\n",
      "\u001b[0;32m~/.local/lib/python3.6/site-packages/pandas/core/indexes/base.py\u001b[0m in \u001b[0;36mget_loc\u001b[0;34m(self, key, method, tolerance)\u001b[0m\n\u001b[1;32m   2898\u001b[0m                 \u001b[0;32mreturn\u001b[0m \u001b[0mself\u001b[0m\u001b[0;34m.\u001b[0m\u001b[0m_engine\u001b[0m\u001b[0;34m.\u001b[0m\u001b[0mget_loc\u001b[0m\u001b[0;34m(\u001b[0m\u001b[0mcasted_key\u001b[0m\u001b[0;34m)\u001b[0m\u001b[0;34m\u001b[0m\u001b[0;34m\u001b[0m\u001b[0m\n\u001b[1;32m   2899\u001b[0m             \u001b[0;32mexcept\u001b[0m \u001b[0mKeyError\u001b[0m \u001b[0;32mas\u001b[0m \u001b[0merr\u001b[0m\u001b[0;34m:\u001b[0m\u001b[0;34m\u001b[0m\u001b[0;34m\u001b[0m\u001b[0m\n\u001b[0;32m-> 2900\u001b[0;31m                 \u001b[0;32mraise\u001b[0m \u001b[0mKeyError\u001b[0m\u001b[0;34m(\u001b[0m\u001b[0mkey\u001b[0m\u001b[0;34m)\u001b[0m \u001b[0;32mfrom\u001b[0m \u001b[0merr\u001b[0m\u001b[0;34m\u001b[0m\u001b[0;34m\u001b[0m\u001b[0m\n\u001b[0m\u001b[1;32m   2901\u001b[0m \u001b[0;34m\u001b[0m\u001b[0m\n\u001b[1;32m   2902\u001b[0m         \u001b[0;32mif\u001b[0m \u001b[0mtolerance\u001b[0m \u001b[0;32mis\u001b[0m \u001b[0;32mnot\u001b[0m \u001b[0;32mNone\u001b[0m\u001b[0;34m:\u001b[0m\u001b[0;34m\u001b[0m\u001b[0;34m\u001b[0m\u001b[0m\n",
      "\u001b[0;31mKeyError\u001b[0m: 'latitude'"
     ]
    }
   ],
   "source": [
    "column_name = 'latitude'\n",
    "\n",
    "column = X_train_transf[column_name]\n",
    "column.hist()\n",
    "plt.show()\n",
    "logging.info(\"quantiles = \\n\" + str((column.quantile([0,0.5,0.95,0.99]).to_frame().reset_index()).rename(columns = {'index': 'quantiles'})))\n",
    "logging.info(\"skewness =  {:.3f}\".format(column.skew().round(2)))\n",
    "logging.info(\"kurtosis = {:.3f}\" .format(column.kurtosis().round(2)))\n",
    "\n",
    "logging.info(\"target corr. = {:.3f}\" .format(np.corrcoef(column, y_train)[0][1]))\n",
    "supervised_test_rf(X_train_transf[[column_name]], X_test_transf[[column_name]], y_train, y_test)\n"
   ]
  },
  {
   "cell_type": "code",
   "execution_count": 32,
   "id": "2c3fb30c",
   "metadata": {},
   "outputs": [],
   "source": [
    "# column_name = 'longitude'\n",
    "\n",
    "# column = X_train_transf[column_name]\n",
    "# column.hist()\n",
    "# plt.show()\n",
    "# logging.info(\"quantiles = \\n\" + str((column.quantile([0,0.5,0.95,0.99]).to_frame().reset_index()).rename(columns = {'index': 'quantiles'})))\n",
    "# logging.info(\"skewness =  {:.3f}\".format(column.skew().round(2)))\n",
    "# logging.info(\"kurtosis = {:.3f}\" .format(column.kurtosis().round(2)))\n",
    "\n",
    "# logging.info(\"target corr. = {:.3f}\" .format(np.corrcoef(column, y_train)[0][1]))\n",
    "# supervised_test_rf(X_train_transf[[column_name]], X_test_transf[[column_name]], y_train, y_test)\n"
   ]
  },
  {
   "cell_type": "code",
   "execution_count": 16,
   "id": "c70186a5",
   "metadata": {},
   "outputs": [
    {
     "data": {
      "image/png": "[encoded data removed]",
      "text/plain": [
       "<Figure size 432x288 with 1 Axes>"
      ]
     },
     "metadata": {
      "needs_background": "light"
     },
     "output_type": "display_data"
    },
    {
     "name": "stderr",
     "output_type": "stream",
     "text": [
      "2022-08-04 23:21:51,537 [INFO] quantiles = \n",
      "   quantiles    street\n",
      "0       0.00  0.002069\n",
      "1       0.50  0.168470\n",
      "2       0.95  0.170922\n",
      "3       0.99  0.535286\n",
      "2022-08-04 23:21:51,538 [INFO] skewness =  6.580\n",
      "2022-08-04 23:21:51,540 [INFO] kurtosis = 57.740\n",
      "2022-08-04 23:21:51,541 [INFO] target corr. = 0.407\n",
      "2022-08-04 23:21:52,836 [INFO] cv_mae_score = 369018 ± 5608\n",
      "2022-08-04 23:21:53,139 [INFO] MAE (train) = 368141.264\n",
      "2022-08-04 23:21:53,174 [INFO] MAE (test) = 378541.899\n",
      "2022-08-04 23:21:53,249 [INFO] R2 (train) = 0.168\n",
      "2022-08-04 23:21:53,276 [INFO] R2 (test) = 0.165\n"
     ]
    }
   ],
   "source": [
    "column_name = 'street'\n",
    "\n",
    "column = X_train_transf[column_name]\n",
    "column.hist()\n",
    "plt.show()\n",
    "logging.info(\"quantiles = \\n\" + str((column.quantile([0,0.5,0.95,0.99]).to_frame().reset_index()).rename(columns = {'index': 'quantiles'})))\n",
    "logging.info(\"skewness =  {:.3f}\".format(column.skew().round(2)))\n",
    "logging.info(\"kurtosis = {:.3f}\" .format(column.kurtosis().round(2)))\n",
    "\n",
    "logging.info(\"target corr. = {:.3f}\" .format(np.corrcoef(column, y_train)[0][1]))\n",
    "supervised_test_rf(X_train_transf[[column_name]], X_test_transf[[column_name]], y_train, y_test)\n"
   ]
  },
  {
   "cell_type": "code",
   "execution_count": 17,
   "id": "27d22a00",
   "metadata": {},
   "outputs": [
    {
     "data": {
      "image/png": "[encoded data removed]",
      "text/plain": [
       "<Figure size 432x288 with 1 Axes>"
      ]
     },
     "metadata": {
      "needs_background": "light"
     },
     "output_type": "display_data"
    },
    {
     "name": "stderr",
     "output_type": "stream",
     "text": [
      "2022-08-04 23:22:01,486 [INFO] quantiles = \n",
      "   quantiles  neighborhood\n",
      "0       0.00      0.000000\n",
      "1       0.50      0.154463\n",
      "2       0.95      0.609327\n",
      "3       0.99      0.635144\n",
      "2022-08-04 23:22:01,487 [INFO] skewness =  1.290\n",
      "2022-08-04 23:22:01,489 [INFO] kurtosis = 1.150\n",
      "2022-08-04 23:22:01,491 [INFO] target corr. = 0.774\n",
      "2022-08-04 23:22:03,237 [INFO] cv_mae_score = 223995 ± 3200\n",
      "2022-08-04 23:22:03,680 [INFO] MAE (train) = 222449.364\n",
      "2022-08-04 23:22:03,730 [INFO] MAE (test) = 222725.657\n",
      "2022-08-04 23:22:03,837 [INFO] R2 (train) = 0.600\n",
      "2022-08-04 23:22:03,885 [INFO] R2 (test) = 0.621\n"
     ]
    }
   ],
   "source": [
    "column_name = 'neighborhood'\n",
    "\n",
    "column = X_train_transf[column_name]\n",
    "column.hist()\n",
    "plt.show()\n",
    "logging.info(\"quantiles = \\n\" + str((column.quantile([0,0.5,0.95,0.99]).to_frame().reset_index()).rename(columns = {'index': 'quantiles'})))\n",
    "logging.info(\"skewness =  {:.3f}\".format(column.skew().round(2)))\n",
    "logging.info(\"kurtosis = {:.3f}\" .format(column.kurtosis().round(2)))\n",
    "\n",
    "logging.info(\"target corr. = {:.3f}\" .format(np.corrcoef(column, y_train)[0][1]))\n",
    "supervised_test_rf(X_train_transf[[column_name]], X_test_transf[[column_name]], y_train, y_test)\n"
   ]
  },
  {
   "cell_type": "code",
   "execution_count": null,
   "id": "63df35d7",
   "metadata": {},
   "outputs": [],
   "source": []
  },
  {
   "cell_type": "code",
   "execution_count": 18,
   "id": "ad49019e",
   "metadata": {},
   "outputs": [
    {
     "data": {
      "image/png": "[encoded data removed]",
      "text/plain": [
       "<Figure size 432x288 with 1 Axes>"
      ]
     },
     "metadata": {
      "needs_background": "light"
     },
     "output_type": "display_data"
    },
    {
     "name": "stderr",
     "output_type": "stream",
     "text": [
      "2022-08-04 23:22:09,776 [INFO] quantiles = \n",
      "   quantiles  n_suites\n",
      "0       0.00      0.00\n",
      "1       0.50      0.25\n",
      "2       0.95      0.75\n",
      "3       0.99      1.00\n",
      "2022-08-04 23:22:09,778 [INFO] skewness =  1.170\n",
      "2022-08-04 23:22:09,780 [INFO] kurtosis = 1.420\n",
      "2022-08-04 23:22:09,782 [INFO] target corr. = 0.586\n",
      "2022-08-04 23:22:10,668 [INFO] cv_mae_score = 317321 ± 4250\n",
      "2022-08-04 23:22:10,896 [INFO] MAE (train) = 317188.773\n",
      "2022-08-04 23:22:10,922 [INFO] MAE (test) = 318865.594\n",
      "2022-08-04 23:22:10,965 [INFO] R2 (train) = 0.390\n",
      "2022-08-04 23:22:10,990 [INFO] R2 (test) = 0.416\n"
     ]
    }
   ],
   "source": [
    "column_name = 'n_suites'\n",
    "\n",
    "column = X_train_transf[column_name]\n",
    "column.hist()\n",
    "plt.show()\n",
    "logging.info(\"quantiles = \\n\" + str((column.quantile([0,0.5,0.95,0.99]).to_frame().reset_index()).rename(columns = {'index': 'quantiles'})))\n",
    "logging.info(\"skewness =  {:.3f}\".format(column.skew().round(2)))\n",
    "logging.info(\"kurtosis = {:.3f}\" .format(column.kurtosis().round(2)))\n",
    "\n",
    "logging.info(\"target corr. = {:.3f}\" .format(np.corrcoef(column, y_train)[0][1]))\n",
    "supervised_test_rf(X_train_transf[[column_name]], X_test_transf[[column_name]], y_train, y_test)\n"
   ]
  },
  {
   "cell_type": "code",
   "execution_count": 19,
   "id": "e6f1d262",
   "metadata": {},
   "outputs": [
    {
     "data": {
      "image/png": "[encoded data removed]",
      "text/plain": [
       "<Figure size 432x288 with 1 Axes>"
      ]
     },
     "metadata": {
      "needs_background": "light"
     },
     "output_type": "display_data"
    },
    {
     "name": "stderr",
     "output_type": "stream",
     "text": [
      "2022-08-04 23:22:13,805 [INFO] quantiles = \n",
      "   quantiles      area\n",
      "0       0.00  0.000000\n",
      "1       0.50  0.145029\n",
      "2       0.95  0.429615\n",
      "3       0.99  0.655824\n",
      "2022-08-04 23:22:13,809 [INFO] skewness =  2.020\n",
      "2022-08-04 23:22:13,813 [INFO] kurtosis = 6.030\n",
      "2022-08-04 23:22:13,817 [INFO] target corr. = 0.766\n",
      "2022-08-04 23:22:17,916 [INFO] cv_mae_score = 151488 ± 2503\n",
      "2022-08-04 23:22:18,789 [INFO] MAE (train) = 145769.055\n",
      "2022-08-04 23:22:18,848 [INFO] MAE (test) = 158645.387\n",
      "2022-08-04 23:22:18,990 [INFO] R2 (train) = 0.822\n",
      "2022-08-04 23:22:19,050 [INFO] R2 (test) = 0.795\n"
     ]
    }
   ],
   "source": [
    "column_name = 'area'\n",
    "\n",
    "column = X_train_transf[column_name]\n",
    "column.hist()\n",
    "plt.show()\n",
    "logging.info(\"quantiles = \\n\" + str((column.quantile([0,0.5,0.95,0.99]).to_frame().reset_index()).rename(columns = {'index': 'quantiles'})))\n",
    "logging.info(\"skewness =  {:.3f}\".format(column.skew().round(2)))\n",
    "logging.info(\"kurtosis = {:.3f}\" .format(column.kurtosis().round(2)))\n",
    "\n",
    "logging.info(\"target corr. = {:.3f}\" .format(np.corrcoef(column, y_train)[0][1]))\n",
    "supervised_test_rf(X_train_transf[[column_name]], X_test_transf[[column_name]], y_train, y_test)\n"
   ]
  },
  {
   "cell_type": "code",
   "execution_count": 20,
   "id": "9733f792",
   "metadata": {},
   "outputs": [
    {
     "data": {
      "image/png": "[encoded data removed]",
      "text/plain": [
       "<Figure size 432x288 with 1 Axes>"
      ]
     },
     "metadata": {
      "needs_background": "light"
     },
     "output_type": "display_data"
    },
    {
     "name": "stderr",
     "output_type": "stream",
     "text": [
      "2022-08-04 23:22:19,267 [INFO] quantiles = \n",
      "   quantiles  n_bedrooms\n",
      "0       0.00         0.0\n",
      "1       0.50         0.4\n",
      "2       0.95         0.6\n",
      "3       0.99         1.0\n",
      "2022-08-04 23:22:19,271 [INFO] skewness =  0.820\n",
      "2022-08-04 23:22:19,273 [INFO] kurtosis = 2.070\n",
      "2022-08-04 23:22:19,275 [INFO] target corr. = 0.544\n",
      "2022-08-04 23:22:20,256 [INFO] cv_mae_score = 321798 ± 3898\n",
      "2022-08-04 23:22:20,471 [INFO] MAE (train) = 321660.127\n",
      "2022-08-04 23:22:20,498 [INFO] MAE (test) = 325172.015\n",
      "2022-08-04 23:22:20,543 [INFO] R2 (train) = 0.335\n",
      "2022-08-04 23:22:20,569 [INFO] R2 (test) = 0.345\n"
     ]
    }
   ],
   "source": [
    "column_name = 'n_bedrooms'\n",
    "\n",
    "column = X_train_transf[column_name]\n",
    "column.hist()\n",
    "plt.show()\n",
    "logging.info(\"quantiles = \\n\" + str((column.quantile([0,0.5,0.95,0.99]).to_frame().reset_index()).rename(columns = {'index': 'quantiles'})))\n",
    "logging.info(\"skewness =  {:.3f}\".format(column.skew().round(2)))\n",
    "logging.info(\"kurtosis = {:.3f}\" .format(column.kurtosis().round(2)))\n",
    "\n",
    "logging.info(\"target corr. = {:.3f}\" .format(np.corrcoef(column, y_train)[0][1]))\n",
    "supervised_test_rf(X_train_transf[[column_name]], X_test_transf[[column_name]], y_train, y_test)\n"
   ]
  },
  {
   "cell_type": "code",
   "execution_count": 21,
   "id": "f1463979",
   "metadata": {},
   "outputs": [
    {
     "data": {
      "image/png": "[encoded data removed]",
      "text/plain": [
       "<Figure size 432x288 with 1 Axes>"
      ]
     },
     "metadata": {
      "needs_background": "light"
     },
     "output_type": "display_data"
    },
    {
     "name": "stderr",
     "output_type": "stream",
     "text": [
      "2022-08-04 23:22:20,753 [INFO] quantiles = \n",
      "   quantiles  n_bathrooms\n",
      "0       0.00     0.000000\n",
      "1       0.50     0.163171\n",
      "2       0.95     0.442114\n",
      "2022-08-04 23:22:20,755 [INFO] skewness =  0.530\n",
      "2022-08-04 23:22:20,756 [INFO] kurtosis = -0.550\n",
      "2022-08-04 23:22:20,758 [INFO] target corr. = 0.547\n",
      "2022-08-04 23:22:21,724 [INFO] cv_mae_score = 312095 ± 4695\n",
      "2022-08-04 23:22:21,951 [INFO] MAE (train) = 311841.925\n",
      "2022-08-04 23:22:21,980 [INFO] MAE (test) = 313481.828\n",
      "2022-08-04 23:22:22,033 [INFO] R2 (train) = 0.385\n",
      "2022-08-04 23:22:22,066 [INFO] R2 (test) = 0.382\n"
     ]
    }
   ],
   "source": [
    "column_name = 'n_bathrooms'\n",
    "\n",
    "column = X_train_transf[column_name]\n",
    "column.hist()\n",
    "plt.show()\n",
    "logging.info(\"quantiles = \\n\" + str((column.quantile([0,0.5,0.95]).to_frame().reset_index()).rename(columns = {'index': 'quantiles'})))\n",
    "logging.info(\"skewness =  {:.3f}\".format(column.skew().round(2)))\n",
    "logging.info(\"kurtosis = {:.3f}\" .format(column.kurtosis().round(2)))\n",
    "\n",
    "logging.info(\"target corr. = {:.3f}\" .format(np.corrcoef(column, y_train)[0][1]))\n",
    "supervised_test_rf(X_train_transf[[column_name]], X_test_transf[[column_name]], y_train, y_test)\n"
   ]
  },
  {
   "cell_type": "code",
   "execution_count": 22,
   "id": "4dd7f2bb",
   "metadata": {},
   "outputs": [
    {
     "data": {
      "image/png": "[encoded data removed]",
      "text/plain": [
       "<Figure size 432x288 with 1 Axes>"
      ]
     },
     "metadata": {
      "needs_background": "light"
     },
     "output_type": "display_data"
    },
    {
     "name": "stderr",
     "output_type": "stream",
     "text": [
      "2022-08-04 23:22:22,262 [INFO] quantiles = \n",
      "   quantiles  n_parking_spaces\n",
      "0       0.00          0.000000\n",
      "1       0.50          0.360849\n",
      "2       0.95          0.639151\n",
      "2022-08-04 23:22:22,264 [INFO] skewness =  -0.230\n",
      "2022-08-04 23:22:22,266 [INFO] kurtosis = 0.960\n",
      "2022-08-04 23:22:22,268 [INFO] target corr. = 0.409\n",
      "2022-08-04 23:22:23,249 [INFO] cv_mae_score = 344512 ± 2678\n",
      "2022-08-04 23:22:23,481 [INFO] MAE (train) = 344025.662\n",
      "2022-08-04 23:22:23,504 [INFO] MAE (test) = 348835.545\n",
      "2022-08-04 23:22:23,560 [INFO] R2 (train) = 0.282\n",
      "2022-08-04 23:22:23,583 [INFO] R2 (test) = 0.294\n"
     ]
    }
   ],
   "source": [
    "column_name = 'n_parking_spaces'\n",
    "\n",
    "column = X_train_transf[column_name]\n",
    "column.hist()\n",
    "plt.show()\n",
    "logging.info(\"quantiles = \\n\" + str((column.quantile([0,0.5,0.95]).to_frame().reset_index()).rename(columns = {'index': 'quantiles'})))\n",
    "logging.info(\"skewness =  {:.3f}\".format(column.skew().round(2)))\n",
    "logging.info(\"kurtosis = {:.3f}\" .format(column.kurtosis().round(2)))\n",
    "\n",
    "logging.info(\"target corr. = {:.3f}\" .format(np.corrcoef(column, y_train)[0][1]))\n",
    "supervised_test_rf(X_train_transf[[column_name]], X_test_transf[[column_name]], y_train, y_test)\n"
   ]
  },
  {
   "cell_type": "code",
   "execution_count": 112,
   "id": "59f4b702",
   "metadata": {},
   "outputs": [
    {
     "name": "stderr",
     "output_type": "stream",
     "text": [
      "2022-08-04 14:50:57,958 [INFO] MAE (train) = 11843.756\n",
      "2022-08-04 14:50:58,041 [INFO] MAE (test) = 20833.289\n",
      "2022-08-04 14:50:58,240 [INFO] R2 (train) = 0.995\n",
      "2022-08-04 14:50:58,326 [INFO] R2 (test) = 0.980\n"
     ]
    }
   ],
   "source": [
    "supervised_test_rf(X_train_transf, X_test_transf, y_train, y_test)"
   ]
  },
  {
   "cell_type": "code",
   "execution_count": 52,
   "id": "4091f473",
   "metadata": {},
   "outputs": [
    {
     "data": {
      "text/plain": [
       "22647.948609947973"
      ]
     },
     "execution_count": 52,
     "metadata": {},
     "output_type": "execute_result"
    }
   ],
   "source": [
    "from sklearn.compose import TransformedTargetRegressor\n",
    "from sklearn.ensemble import RandomForestRegressor\n",
    "from sklearn.metrics import mean_squared_error, mean_absolute_error, r2_score\n",
    "\n",
    "\n",
    "regressor = RandomForestRegressor().fit(X_train_transf, y_train)\n",
    "\n",
    "\n",
    "mean_absolute_error(y_test,regressor.predict(X_test_transf))"
   ]
  },
  {
   "cell_type": "code",
   "execution_count": 47,
   "id": "306d691b",
   "metadata": {},
   "outputs": [
    {
     "data": {
      "text/plain": [
       "<AxesSubplot:>"
      ]
     },
     "execution_count": 47,
     "metadata": {},
     "output_type": "execute_result"
    },
    {
     "data": {
      "image/png": "[encoded data removed]",
      "text/plain": [
       "<Figure size 432x288 with 1 Axes>"
      ]
     },
     "metadata": {
      "needs_background": "light"
     },
     "output_type": "display_data"
    }
   ],
   "source": [
    "np.sqrt(y_train).hist(bins=100)"
   ]
  },
  {
   "cell_type": "code",
   "execution_count": 22,
   "id": "033f46fe",
   "metadata": {},
   "outputs": [
    {
     "data": {
      "text/plain": [
       "array([  64000.,  477600.,  891200., 1304800., 1718400., 2132000.,\n",
       "       2545600., 2959200., 3372800., 3786400., 4200000.])"
      ]
     },
     "execution_count": 22,
     "metadata": {},
     "output_type": "execute_result"
    }
   ],
   "source": [
    "np.linspace(y_train.min(), y_train.max(),11)"
   ]
  },
  {
   "cell_type": "code",
   "execution_count": 18,
   "id": "cf7d13c6",
   "metadata": {},
   "outputs": [
    {
     "data": {
      "text/plain": [
       "57055      (477600.0, 891200.0]\n",
       "44710       (59864.0, 477600.0]\n",
       "15487       (59864.0, 477600.0]\n",
       "40997      (477600.0, 891200.0]\n",
       "38495       (59864.0, 477600.0]\n",
       "                  ...          \n",
       "37104    (1304800.0, 1718400.0]\n",
       "39550      (477600.0, 891200.0]\n",
       "18052    (1718400.0, 2132000.0]\n",
       "3056        (59864.0, 477600.0]\n",
       "51605    (1718400.0, 2132000.0]\n",
       "Name: price, Length: 13870, dtype: category\n",
       "Categories (10, interval[float64]): [(59864.0, 477600.0] < (477600.0, 891200.0] < (891200.0, 1304800.0] < (1304800.0, 1718400.0] ... (2545600.0, 2959200.0] < (2959200.0, 3372800.0] < (3372800.0, 3786400.0] < (3786400.0, 4200000.0]]"
      ]
     },
     "execution_count": 18,
     "metadata": {},
     "output_type": "execute_result"
    }
   ],
   "source": [
    "pd.cut(y_train, 10)"
   ]
  },
  {
   "cell_type": "code",
   "execution_count": 31,
   "id": "156ffc1c",
   "metadata": {},
   "outputs": [],
   "source": [
    "import yaml\n",
    "from io import StringIO\n",
    "\n",
    "EXAMPLE_HEADER = \"\"\"\n",
    "###################################################\n",
    "# FEATURES - CONFIGURATION EXAMPLE\n",
    "#\n",
    "# >>> Example:\n",
    "# - name: nome_da_feature\n",
    "#   active: true\n",
    "#   type: float\n",
    "#   imputation_strategy: constant # (constant, mean, median)\n",
    "#   imputation_fill_value: 1 # only applicable to constant strategy\n",
    "#   limits: [0.0, 1705.0] # if set limits, do not set qlimits\n",
    "#   qlimits: [0,0.95] # quantile limts; if set qlimits, do not set limits\n",
    "#   transformation: identity # (log, log10, log1p, exp, square, sqrt, identity)\n",
    "#   discretizer_n_bins: null\n",
    "#   discretizer_encode: \"ordinal\" # (ordinal, onehot)\n",
    "#   discretizer_strategy: quantile # (uniform, quantile, kmeans)\n",
    "#   encoder: m_estimate # (onehot, woe, target, sum, m_estimate, leave_one_out, helmert, cat_boost, james_stein)\n",
    "#   scaler: minmax #(minmax, standard, robust)\n",
    "\n",
    "\"\"\"\n",
    "\n",
    "def generate_features_config_example(df, filepath):\n",
    "    \n",
    "    obj = [\n",
    "        {\n",
    "            'name': col,\n",
    "            'type': 'float',\n",
    "            'active': True,\n",
    "            'encode': None,\n",
    "            'imputation_strategy': 'median',\n",
    "            'imputation_fill_value': 0,\n",
    "            'qlimits': [0,1],\n",
    "            'limits': None,\n",
    "            'transformation': 'log1p',\n",
    "            'discretizer_n_bins': None,\n",
    "            'discretizer_encode': \"ordinal\",\n",
    "            'discretizer_strategy': \"quantile\",\n",
    "            'scale': \"minmax\",\n",
    "        }\n",
    "\n",
    "        for col in df\n",
    "    ]\n",
    "    \n",
    "    output = StringIO()\n",
    "\n",
    "    yaml.dump(obj, output, sort_keys=False)\n",
    "\n",
    "    text = EXAMPLE_HEADER + output.getvalue().replace('\\n- ', '\\n\\n- ')\n",
    "\n",
    "    with open(filepath, 'w') as file:\n",
    "        file.write(text)\n",
    "\n",
    "\n",
    "# from base.commons import dump_yaml\n",
    "\n",
    "# dump_yaml(obj, 'config/features_example.yaml')\n",
    "\n",
    "\n",
    "\n",
    "# assert (kwargs['qlimits'] is None) | (kwargs['limits'] is None)  "
   ]
  },
  {
   "cell_type": "code",
   "execution_count": 32,
   "id": "10bbd1ea",
   "metadata": {},
   "outputs": [],
   "source": [
    "generate_features_config_example(X_train_transf, 'config/features_example.yaml')"
   ]
  },
  {
   "cell_type": "code",
   "execution_count": 18,
   "id": "226276c4",
   "metadata": {},
   "outputs": [],
   "source": [
    "filepath = 'config/features_example.yaml'\n",
    "\n",
    "obj = [\n",
    "    {\n",
    "        'name': col,\n",
    "        'type': 'float',\n",
    "        'active': True,\n",
    "        'encode': None,\n",
    "        'imputation_strategy': 'median',\n",
    "        'imputation_fill_value': 0,\n",
    "        'qlimits': [0,1],\n",
    "        'limits': None,\n",
    "        'transformation': 'log1p',\n",
    "        'discretizer_n_bins': None,\n",
    "        'discretizer_encode': \"ordinal\",\n",
    "        'discretizer_strategy': \"quantile\",\n",
    "        'scale': \"minmax\",\n",
    "    }\n",
    "\n",
    "    for col in X_train_transf\n",
    "]\n"
   ]
  },
  {
   "cell_type": "code",
   "execution_count": 29,
   "id": "f7dd62fa",
   "metadata": {},
   "outputs": [
    {
     "data": {
      "text/plain": [
       "'config/features_example.yaml'"
      ]
     },
     "execution_count": 29,
     "metadata": {},
     "output_type": "execute_result"
    }
   ],
   "source": [
    "filepath"
   ]
  },
  {
   "cell_type": "code",
   "execution_count": 20,
   "id": "a1d5b357",
   "metadata": {},
   "outputs": [],
   "source": []
  },
  {
   "cell_type": "code",
   "execution_count": 30,
   "id": "5dac2c4a",
   "metadata": {},
   "outputs": [],
   "source": []
  },
  {
   "cell_type": "markdown",
   "id": "203d77c0",
   "metadata": {},
   "source": [
    "# Sandbox"
   ]
  },
  {
   "cell_type": "code",
   "execution_count": 128,
   "id": "71c2ed0f",
   "metadata": {},
   "outputs": [],
   "source": [
    "import os\n",
    "import yaml\n",
    "import logging\n",
    "import pandas as pd\n",
    "import numpy as np\n",
    "from unidecode import unidecode\n",
    "\n",
    "\n",
    "from dotenv import load_dotenv\n",
    "from sqlalchemy import create_engine\n",
    "from basix.parquet import write as to_parquet\n",
    "\n",
    "from base.commons import load_yaml\n",
    "from src.model.data.cleaning import raw_sanitize\n",
    "\n",
    "\n",
    "EXTRACTION_QUERY = \"\"\"\\\n",
    "WITH tab AS (\n",
    "    SELECT\n",
    "        id\n",
    "        , search_date\n",
    "        , type\n",
    "        , n_parking_spaces\n",
    "        , n_bathrooms\n",
    "        , n_bedrooms\n",
    "        , area\n",
    "        , n_suites\n",
    "        , neighborhood\n",
    "        , CASE WHEN ABS(longitude) > 0 THEN longitude ELSE NULL END as longitude\n",
    "        , CASE WHEN ABS(latitude) > 0 THEN latitude ELSE NULL END as latitude\n",
    "        , condo_fee\n",
    "        , iptu\n",
    "        , price     \n",
    "    FROM pocos_de_caldas.imoveis i\n",
    "    WHERE True\n",
    "      AND price IS NOT NULL\n",
    "      AND price > 0\n",
    ") SELECT * FROM tab t\n",
    "\"\"\"\n",
    "\n",
    "\n",
    "def extract_scrapped_relational_data() -> None:\n",
    "    \"\"\"Extract relational data from PostgreSQl database and\n",
    "    persists in a local parquet file.\n",
    "    \"\"\"\n",
    "\n",
    "    assert load_dotenv()\n",
    "\n",
    "    # --\n",
    "    logging.info(\"Importing variables\")\n",
    "    filepaths = load_yaml(os.getenv(\"FILEPATHS\"))\n",
    "    variables = load_yaml(os.getenv(\"VARIABLES\"))\n",
    "\n",
    "    # --\n",
    "    logging.info(\"Setting postgresql connection\")\n",
    "    engine = create_engine(\n",
    "        \"postgresql://{user}:{password}@{host}:{port}/{database}\".format(\n",
    "            user=os.getenv(\"DB_USERNAME\"),\n",
    "            password=os.getenv(\"DB_PASSWORD\"),\n",
    "            host=os.getenv(\"DB_HOST\"),\n",
    "            port=os.getenv(\"DB_PORT\"),\n",
    "            database=os.getenv(\"DB_NAME\"),\n",
    "        )\n",
    "    )\n",
    "\n",
    "    # --\n",
    "    logging.info(\"Reading data from PostgreSQl\")\n",
    "    df_basic = pd.read_sql(EXTRACTION_QUERY, engine)\n",
    "\n",
    "    # --\n",
    "    df_basic = df_basic.pipe(raw_sanitize)\n",
    "\n",
    "    # --\n",
    "    logging.info(\"Persisting relational raw data\")\n",
    "    to_parquet(\n",
    "        df_basic,\n",
    "        filepaths[\"raw_data_relational_scrapped\"],\n",
    "        overwrite=True,\n",
    "        partition_cols=[\"search_date\"],\n",
    "    )"
   ]
  },
  {
   "cell_type": "code",
   "execution_count": 129,
   "id": "6558c652",
   "metadata": {},
   "outputs": [
    {
     "name": "stderr",
     "output_type": "stream",
     "text": [
      "2022-08-19 22:06:41,902 [INFO] Importing variables\n",
      "2022-08-19 22:06:41,909 [INFO] Setting postgresql connection\n"
     ]
    }
   ],
   "source": [
    "assert load_dotenv()\n",
    "\n",
    "# --\n",
    "logging.info(\"Importing variables\")\n",
    "filepaths = load_yaml(os.getenv(\"FILEPATHS\"))\n",
    "variables = load_yaml(os.getenv(\"VARIABLES\"))\n",
    "\n",
    "# --\n",
    "logging.info(\"Setting postgresql connection\")\n",
    "engine = create_engine(\n",
    "    \"postgresql://{user}:{password}@{host}:{port}/{database}\".format(\n",
    "        user=os.getenv(\"DB_USERNAME\"),\n",
    "        password=os.getenv(\"DB_PASSWORD\"),\n",
    "        host=os.getenv(\"DB_HOST\"),\n",
    "        port=os.getenv(\"DB_PORT\"),\n",
    "        database=os.getenv(\"DB_NAME\"),\n",
    "    )\n",
    ")"
   ]
  },
  {
   "cell_type": "code",
   "execution_count": 132,
   "id": "beddf591",
   "metadata": {},
   "outputs": [
    {
     "data": {
      "text/html": [
       "<div>\n",
       "<style scoped>\n",
       "    .dataframe tbody tr th:only-of-type {\n",
       "        vertical-align: middle;\n",
       "    }\n",
       "\n",
       "    .dataframe tbody tr th {\n",
       "        vertical-align: top;\n",
       "    }\n",
       "\n",
       "    .dataframe thead th {\n",
       "        text-align: right;\n",
       "    }\n",
       "</style>\n",
       "<table border=\"1\" class=\"dataframe\">\n",
       "  <thead>\n",
       "    <tr style=\"text-align: right;\">\n",
       "      <th></th>\n",
       "      <th>id</th>\n",
       "      <th>search_id</th>\n",
       "      <th>id_zap</th>\n",
       "      <th>search_date</th>\n",
       "      <th>type</th>\n",
       "      <th>n_parking_spaces</th>\n",
       "      <th>n_bathrooms</th>\n",
       "      <th>n_bedrooms</th>\n",
       "      <th>area</th>\n",
       "      <th>n_floors</th>\n",
       "      <th>units_on_floor</th>\n",
       "      <th>n_suites</th>\n",
       "      <th>state</th>\n",
       "      <th>city</th>\n",
       "      <th>neighborhood</th>\n",
       "      <th>street</th>\n",
       "      <th>longitude</th>\n",
       "      <th>latitude</th>\n",
       "      <th>price</th>\n",
       "      <th>condo_fee</th>\n",
       "      <th>iptu</th>\n",
       "      <th>resale</th>\n",
       "      <th>buildings</th>\n",
       "      <th>plan_only</th>\n",
       "      <th>amenities</th>\n",
       "      <th>pois_list</th>\n",
       "      <th>link</th>\n",
       "      <th>description</th>\n",
       "    </tr>\n",
       "  </thead>\n",
       "  <tbody>\n",
       "    <tr>\n",
       "      <th>0</th>\n",
       "      <td>1</td>\n",
       "      <td>2503300374__2021_06_04_00_23_37</td>\n",
       "      <td>2503300374</td>\n",
       "      <td>2021-06-04</td>\n",
       "      <td>HOME</td>\n",
       "      <td>2.0</td>\n",
       "      <td>3.0</td>\n",
       "      <td>3.0</td>\n",
       "      <td>100.0</td>\n",
       "      <td>NaN</td>\n",
       "      <td>0</td>\n",
       "      <td>1.0</td>\n",
       "      <td>MG</td>\n",
       "      <td>Poços de Caldas</td>\n",
       "      <td>Jardim Das Hortênsias</td>\n",
       "      <td>None</td>\n",
       "      <td>NaN</td>\n",
       "      <td>NaN</td>\n",
       "      <td>420000.0</td>\n",
       "      <td>NaN</td>\n",
       "      <td>NaN</td>\n",
       "      <td>0</td>\n",
       "      <td>0</td>\n",
       "      <td>0</td>\n",
       "      <td>[]</td>\n",
       "      <td>[{'name': 'Colégio Pelicano - Ensino Médio', '...</td>\n",
       "      <td>/imovel/venda-casa-3-quartos-jardim-das-horten...</td>\n",
       "      <td>Casa no Jardim das Hortênsias- Poços de Caldas...</td>\n",
       "    </tr>\n",
       "    <tr>\n",
       "      <th>1</th>\n",
       "      <td>2</td>\n",
       "      <td>2462358530__2021_06_04_00_23_37</td>\n",
       "      <td>2462358530</td>\n",
       "      <td>2021-06-04</td>\n",
       "      <td>APARTMENT</td>\n",
       "      <td>2.0</td>\n",
       "      <td>3.0</td>\n",
       "      <td>3.0</td>\n",
       "      <td>128.0</td>\n",
       "      <td>NaN</td>\n",
       "      <td>0</td>\n",
       "      <td>1.0</td>\n",
       "      <td>MG</td>\n",
       "      <td>Poços de Caldas</td>\n",
       "      <td>Centro</td>\n",
       "      <td>Rua Assis Figueiredo</td>\n",
       "      <td>-46.56683</td>\n",
       "      <td>-21.780617</td>\n",
       "      <td>950000.0</td>\n",
       "      <td>0.0</td>\n",
       "      <td>0.0</td>\n",
       "      <td>0</td>\n",
       "      <td>0</td>\n",
       "      <td>0</td>\n",
       "      <td>[GATED_COMMUNITY, ELEVATOR, SERVICE_AREA, BALC...</td>\n",
       "      <td>[{'name': 'Mirian’s', 'class': 'BR'}, {'name':...</td>\n",
       "      <td>/imovel/venda-apartamento-3-quartos-centro-poc...</td>\n",
       "      <td>Apartamento na Rua Assis Figueiredo de aproxim...</td>\n",
       "    </tr>\n",
       "  </tbody>\n",
       "</table>\n",
       "</div>"
      ],
      "text/plain": [
       "   id                        search_id      id_zap search_date       type  \\\n",
       "0   1  2503300374__2021_06_04_00_23_37  2503300374  2021-06-04       HOME   \n",
       "1   2  2462358530__2021_06_04_00_23_37  2462358530  2021-06-04  APARTMENT   \n",
       "\n",
       "   n_parking_spaces  n_bathrooms  n_bedrooms   area  n_floors  units_on_floor  \\\n",
       "0               2.0          3.0         3.0  100.0       NaN               0   \n",
       "1               2.0          3.0         3.0  128.0       NaN               0   \n",
       "\n",
       "   n_suites state             city           neighborhood  \\\n",
       "0       1.0    MG  Poços de Caldas  Jardim Das Hortênsias   \n",
       "1       1.0    MG  Poços de Caldas                 Centro   \n",
       "\n",
       "                 street  longitude   latitude     price  condo_fee  iptu  \\\n",
       "0                  None        NaN        NaN  420000.0        NaN   NaN   \n",
       "1  Rua Assis Figueiredo  -46.56683 -21.780617  950000.0        0.0   0.0   \n",
       "\n",
       "   resale  buildings  plan_only  \\\n",
       "0       0          0          0   \n",
       "1       0          0          0   \n",
       "\n",
       "                                           amenities  \\\n",
       "0                                                 []   \n",
       "1  [GATED_COMMUNITY, ELEVATOR, SERVICE_AREA, BALC...   \n",
       "\n",
       "                                           pois_list  \\\n",
       "0  [{'name': 'Colégio Pelicano - Ensino Médio', '...   \n",
       "1  [{'name': 'Mirian’s', 'class': 'BR'}, {'name':...   \n",
       "\n",
       "                                                link  \\\n",
       "0  /imovel/venda-casa-3-quartos-jardim-das-horten...   \n",
       "1  /imovel/venda-apartamento-3-quartos-centro-poc...   \n",
       "\n",
       "                                         description  \n",
       "0  Casa no Jardim das Hortênsias- Poços de Caldas...  \n",
       "1  Apartamento na Rua Assis Figueiredo de aproxim...  "
      ]
     },
     "execution_count": 132,
     "metadata": {},
     "output_type": "execute_result"
    }
   ],
   "source": [
    "# query = \"select * from pocos_de_caldas.imoveis\"\n",
    "\n",
    "# df_basic = pd.read_sql(query, engine)\n",
    "\n",
    "df_basic.head(2)"
   ]
  },
  {
   "cell_type": "code",
   "execution_count": null,
   "id": "95e0b674",
   "metadata": {},
   "outputs": [],
   "source": []
  }
 ],
 "metadata": {
  "kernelspec": {
   "display_name": "Python 3",
   "language": "python",
   "name": "python3"
  },
  "language_info": {
   "codemirror_mode": {
    "name": "ipython",
    "version": 3
   },
   "file_extension": ".py",
   "mimetype": "text/x-python",
   "name": "python",
   "nbconvert_exporter": "python",
   "pygments_lexer": "ipython3",
   "version": "3.6.9"
  },
  "vscode": {
   "interpreter": {
    "hash": "2ed472ac47dbd6ac9e73321ae2796c676ea333ecff7516f6f06ada8d41df36ad"
   }
  }
 },
 "nbformat": 4,
 "nbformat_minor": 5
}
